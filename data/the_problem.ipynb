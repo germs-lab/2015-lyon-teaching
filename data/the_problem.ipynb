{
 "metadata": {
  "name": "",
  "signature": "sha256:b5b00fa0c33ab4b43c0c911d7daface84c9f15fa5b8df996f702127e33bcc57d"
 },
 "nbformat": 3,
 "nbformat_minor": 0,
 "worksheets": [
  {
   "cells": [
    {
     "cell_type": "markdown",
     "metadata": {},
     "source": [
      "#Introduction\n",
      "\n",
      "Here is an experiment that caused a file naming problem.  These files were originally named by a technician, then given an ID by the sequencing facility, and now you need to informatively rename them for publication.\n",
      "\n",
      "<img src=\"the_problem.jpg\">\n",
      "\n",
      "Below, let's take a look at the IDs in various files.  First, let's take a look at the sequencing summary. You'll see that we have the technician's sample ID here.  "
     ]
    },
    {
     "cell_type": "markdown",
     "metadata": {},
     "source": [
      "*Note:  even though this is a IPython notebook, you can execute many shell commands by including an preceding \"!\"*"
     ]
    },
    {
     "cell_type": "code",
     "collapsed": false,
     "input": [
      "!head sequence_summary.txt"
     ],
     "language": "python",
     "metadata": {},
     "outputs": [
      {
       "output_type": "stream",
       "stream": "stdout",
       "text": [
        "Lane\tSample ID\tSample Ref\tIndex\tControl\tProject\tYield (Mbases)\t% PF\t# Reads\t% of raw clusters per lane\t% Perfect Index Reads\t% One Mismatch Reads (Index)\t% of >= Q30 Bases (PF)\tMean Quality Score (PF)\r\n",
        "1\tDR1\t\tACAGTG\tN\tDaina_Ringus\t\"4,142\"\t100\t\"41,009,488\"\t14.48\t100\t0\t95.04\t36.5\r\n",
        "1\tDR2\t\tGTGAAA\tN\tDaina_Ringus\t\"6,827\"\t100\t\"67,593,904\"\t23.87\t100\t0\t95.24\t36.57\r\n",
        "1\tDR3\t\tGCCAAT\tN\tDaina_Ringus\t\"11,896\"\t100\t\"117,777,564\"\t41.59\t100\t0\t95.49\t36.77\r\n",
        "1\tDR4\t\tCTTGTA\tN\tDaina_Ringus\t\"4,381\"\t100\t\"43,377,914\"\t15.32\t100\t0\t95.37\t36.69\r\n",
        "2\tDR5\t\tCAGATC\tN\tDaina_Ringus\t\"5,448\"\t100\t\"53,939,284\"\t41.55\t100\t0\t96.93\t37.19\r\n",
        "2\tDR6\t\tGGCTAC\tN\tDaina_Ringus\t\"2,888\"\t100\t\"28,591,364\"\t22.02\t100\t0\t96.81\t37.06\r\n",
        "2\tDR7\t\tATCACG\tN\tDaina_Ringus\t\"2,177\"\t100\t\"21,553,336\"\t16.6\t100\t0\t96.72\t37.06\r\n",
        "2\tDR8\t\tGAGTGG\tN\tDaina_Ringus\t\"1,746\"\t100\t\"17,286,478\"\t13.32\t100\t0\t96.95\t37.2\r\n",
        "3\tDR10\t\tACTTGA\tN\tDaina_Ringus\t\"10,719\"\t100\t\"106,124,800\"\t31.24\t100\t0\t93.96\t36.21\r\n"
       ]
      }
     ],
     "prompt_number": 5
    },
    {
     "cell_type": "markdown",
     "metadata": {},
     "source": [
      "When you asked the technician for the details of each sample, here is what she gave you.  "
     ]
    },
    {
     "cell_type": "code",
     "collapsed": false,
     "input": [
      "!head SampleIDsVirome.txt"
     ],
     "language": "python",
     "metadata": {},
     "outputs": [
      {
       "output_type": "stream",
       "stream": "stdout",
       "text": [
        "Sample_DR1\t50A_2-12_total\r\n",
        "Sample_DR2\t50B_2-12_total\r\n",
        "Sample_DR3\t50C_2-12_total\r\n",
        "Sample_DR4\t50A_3-6_total\r\n",
        "Sample_DR5\t50B_3-6_total\r\n",
        "Sample_DR6\t50C_3-6_total\r\n",
        "Sample_DR7\t50A_3-27_total\r\n",
        "Sample_DR8\t50B_3-27_total\r\n",
        "Sample_DR9\t50C_3-27_total\r\n",
        "Sample_DR10\t77A_2-18_total\r\n"
       ]
      }
     ],
     "prompt_number": 8
    },
    {
     "cell_type": "markdown",
     "metadata": {},
     "source": [
      "##Mission (if you so choose):\n",
      "Rename the files and sample characteristics for consistency and containing cage, replication, date, and biological fraction.\n",
      "\n",
      "Specifically, sequence files should be named 50A_2-12_total.fasta and a sequencing summary text files should be available with the appropriately associated data."
     ]
    },
    {
     "cell_type": "markdown",
     "metadata": {},
     "source": [
      "<img src=\"to_do.jpg\">"
     ]
    },
    {
     "cell_type": "markdown",
     "metadata": {},
     "source": [
      "*Helpful hint:  If you haven't completed the python introduction notebook introducing python data structures, you should do so now.*"
     ]
    },
    {
     "cell_type": "markdown",
     "metadata": {},
     "source": [
      "# Task 1 - Create dictionary mapping old IDs to final IDs."
     ]
    },
    {
     "cell_type": "markdown",
     "metadata": {},
     "source": [
      "### Let's first break apart into distinct units the ID from the SampleIDsVirome.txt.  "
     ]
    },
    {
     "cell_type": "code",
     "collapsed": false,
     "input": [
      "for line in open(\"SampleIDsVirome.txt\"):\n",
      "    dat = line.rstrip().split('\\t')\n",
      "    old_id = dat[0]\n",
      "    new_id = dat[1]\n",
      "    print \"Checking:  old_id=\", old_id, \"& new_id=\", new_id"
     ],
     "language": "python",
     "metadata": {},
     "outputs": [
      {
       "output_type": "stream",
       "stream": "stdout",
       "text": [
        "Checking:  old_id= Sample_DR1 & new_id= 50A_2-12_total\n",
        "Checking:  old_id= Sample_DR2 & new_id= 50B_2-12_total\n",
        "Checking:  old_id= Sample_DR3 & new_id= 50C_2-12_total\n",
        "Checking:  old_id= Sample_DR4 & new_id= 50A_3-6_total\n",
        "Checking:  old_id= Sample_DR5 & new_id= 50B_3-6_total\n",
        "Checking:  old_id= Sample_DR6 & new_id= 50C_3-6_total\n",
        "Checking:  old_id= Sample_DR7 & new_id= 50A_3-27_total\n",
        "Checking:  old_id= Sample_DR8 & new_id= 50B_3-27_total\n",
        "Checking:  old_id= Sample_DR9 & new_id= 50C_3-27_total\n",
        "Checking:  old_id= Sample_DR10 & new_id= 77A_2-18_total\n",
        "Checking:  old_id= Sample_DR11 & new_id= 77B_2-18_total\n",
        "Checking:  old_id= Sample_DR12 & new_id= 77C_2-18_total\n",
        "Checking:  old_id= Sample_DR13 & new_id= 77A_3-12_total\n",
        "Checking:  old_id= Sample_DR14 & new_id= 77B_3-12_total\n",
        "Checking:  old_id= Sample_DR15 & new_id= 77C_3-12_total\n",
        "Checking:  old_id= Sample_DR16 & new_id= 77A_4-2_total\n",
        "Checking:  old_id= Sample_DR17 & new_id= 77B_4-2_total\n",
        "Checking:  old_id= Sample_DR18 & new_id= 77C_4-2_total\n",
        "Checking:  old_id= Sample_DR19 & new_id= 50A_2-12_VLP\n",
        "Checking:  old_id= Sample_DR20 & new_id= 50B_2-12_VLP\n",
        "Checking:  old_id= Sample_DR21 & new_id= 50C_2-12_VLP\n",
        "Checking:  old_id= Sample_DR22 & new_id= 50A_2-12_IND\n",
        "Checking:  old_id= Sample_DR23 & new_id= 50B_2-12_IND\n",
        "Checking:  old_id= Sample_DR24 & new_id= 50C_2-12_IND\n",
        "Checking:  old_id= Sample_DR25 & new_id= 50A_2-13_VLP\n",
        "Checking:  old_id= Sample_DR26 & new_id= 50A_2-12_MDA\n",
        "Checking:  old_id= Sample_DR27 & new_id= 50B_2-13_VLP\n",
        "Checking:  old_id= Sample_DR28 & new_id= 50C_2-13_VLP\n",
        "Checking:  old_id= Sample_DR29 & new_id= 50A_2-13_IND\n",
        "Checking:  old_id= Sample_DR30 & new_id= 50B_2-13_IND\n",
        "Checking:  old_id= Sample_DR31 & new_id= 50C_2-13_IND\n",
        "Checking:  old_id= Sample_DR32 & new_id= 50A_3-6_VLP\n",
        "Checking:  old_id= Sample_DR33 & new_id= 50B_3-6_VLP\n",
        "Checking:  old_id= Sample_DR34 & new_id= 50C_3-6_VLP\n",
        "Checking:  old_id= Sample_DR35 & new_id= 50A_3-6_IND\n",
        "Checking:  old_id= Sample_DR36 & new_id= 50B_3-6_IND\n",
        "Checking:  old_id= Sample_DR37 & new_id= 50C_3-6_IND\n",
        "Checking:  old_id= Sample_DR38 & new_id= 50A_3-27_VLP\n",
        "Checking:  old_id= Sample_DR39 & new_id= 50B_3-27_VLP\n",
        "Checking:  old_id= Sample_DR40 & new_id= 50C_3-27_VLP\n",
        "Checking:  old_id= Sample_DR41 & new_id= 50A_3-27_IND\n",
        "Checking:  old_id= Sample_DR42 & new_id= 50B_3-27_IND\n",
        "Checking:  old_id= Sample_DR43 & new_id= 77A_2-18_VLP\n",
        "Checking:  old_id= Sample_DR44 & new_id= 77B_2-18_VLP\n",
        "Checking:  old_id= Sample_DR45 & new_id= 77C_2-18_VLP\n",
        "Checking:  old_id= Sample_DR46 & new_id= 77A_2-18_IND\n",
        "Checking:  old_id= Sample_DR47 & new_id= 77B_2-18_IND\n",
        "Checking:  old_id= Sample_DR48 & new_id= 77C_2-18_IND\n",
        "Checking:  old_id= Sample_DR49 & new_id= 77A_2-19_VLP\n",
        "Checking:  old_id= Sample_DR50 & new_id= 77B_2-19_VLP\n",
        "Checking:  old_id= Sample_DR51 & new_id= 77C_2-19_VLP\n",
        "Checking:  old_id= Sample_DR52 & new_id= 77A_2-19_IND\n",
        "Checking:  old_id= Sample_DR53 & new_id= 77B_2-29_IND\n",
        "Checking:  old_id= Sample_DR54 & new_id= 77C_2-19_IND\n",
        "Checking:  old_id= Sample_DR55 & new_id= 77A_3-12_VLP\n",
        "Checking:  old_id= Sample_DR56 & new_id= 77B_3-12_VLP\n",
        "Checking:  old_id= Sample_DR57 & new_id= 77C_3-12_VLP\n",
        "Checking:  old_id= Sample_DR58 & new_id= 77A_3-12_IND\n",
        "Checking:  old_id= Sample_DR59 & new_id= 77B_3-12_IND\n",
        "Checking:  old_id= Sample_DR60 & new_id= 77C_3-12_IND\n",
        "Checking:  old_id= Sample_DR61 & new_id= 77A_4-2_VLP\n",
        "Checking:  old_id= Sample_DR62 & new_id= 77B_4-2_VLP\n",
        "Checking:  old_id= Sample_DR63 & new_id= 77C_4-2_VLP\n",
        "Checking:  old_id= Sample_DR64 & new_id= 77A_4-2_IND\n",
        "Checking:  old_id= Sample_DR65 & new_id= 77B_4-2_IND\n",
        "Checking:  old_id= Sample_DR66 & new_id= 77C_4-2_IND\n",
        "Checking:  old_id= Sample_DR67 & new_id= 77A_CECAL\n",
        "Checking:  old_id= Sample_DR68 & new_id= 77B_CECAL\n"
       ]
      }
     ],
     "prompt_number": 5
    },
    {
     "cell_type": "markdown",
     "metadata": {},
     "source": [
      "### Let's create a mapping dictionary where the old ID is the key for the new  ID as the value"
     ]
    },
    {
     "cell_type": "code",
     "collapsed": false,
     "input": [
      "d = {}\n",
      "\n",
      "for line in open(\"SampleIDsVirome.txt\"):\n",
      "    dat = line.rstrip().split('\\t')\n",
      "    old_id = dat[0]\n",
      "    new_id = dat[1]\n",
      "    d[old_id] = new_id"
     ],
     "language": "python",
     "metadata": {},
     "outputs": [],
     "prompt_number": 6
    },
    {
     "cell_type": "code",
     "collapsed": false,
     "input": [
      "print d"
     ],
     "language": "python",
     "metadata": {},
     "outputs": [
      {
       "output_type": "stream",
       "stream": "stdout",
       "text": [
        "{'Sample_DR22': '50A_2-12_IND', 'Sample_DR23': '50B_2-12_IND', 'Sample_DR20': '50B_2-12_VLP', 'Sample_DR21': '50C_2-12_VLP', 'Sample_DR26': '50A_2-12_MDA', 'Sample_DR27': '50B_2-13_VLP', 'Sample_DR24': '50C_2-12_IND', 'Sample_DR25': '50A_2-13_VLP', 'Sample_DR31': '50C_2-13_IND', 'Sample_DR28': '50C_2-13_VLP', 'Sample_DR29': '50A_2-13_IND', 'Sample_DR48': '77C_2-18_IND', 'Sample_DR46': '77A_2-18_IND', 'Sample_DR47': '77B_2-18_IND', 'Sample_DR58': '77A_3-12_IND', 'Sample_DR40': '50C_3-27_VLP', 'Sample_DR54': '77C_2-19_IND', 'Sample_DR41': '50A_3-27_IND', 'Sample_DR52': '77A_2-19_IND', 'Sample_DR42': '50B_3-27_IND', 'Sample_DR30': '50B_2-13_IND', 'Sample_DR43': '77A_2-18_VLP', 'Sample_DR35': '50A_3-6_IND', 'Sample_DR34': '50C_3-6_VLP', 'Sample_DR53': '77B_2-29_IND', 'Sample_DR37': '50C_3-6_IND', 'Sample_DR57': '77C_3-12_VLP', 'Sample_DR56': '77B_3-12_VLP', 'Sample_DR19': '50A_2-12_VLP', 'Sample_DR18': '77C_4-2_total', 'Sample_DR39': '50B_3-27_VLP', 'Sample_DR38': '50A_3-27_VLP', 'Sample_DR51': '77C_2-19_VLP', 'Sample_DR50': '77B_2-19_VLP', 'Sample_DR13': '77A_3-12_total', 'Sample_DR12': '77C_2-18_total', 'Sample_DR11': '77B_2-18_total', 'Sample_DR10': '77A_2-18_total', 'Sample_DR17': '77B_4-2_total', 'Sample_DR16': '77A_4-2_total', 'Sample_DR15': '77C_3-12_total', 'Sample_DR14': '77B_3-12_total', 'Sample_DR9': '50C_3-27_total', 'Sample_DR8': '50B_3-27_total', 'Sample_DR33': '50B_3-6_VLP', 'Sample_DR44': '77B_2-18_VLP', 'Sample_DR3': '50C_2-12_total', 'Sample_DR2': '50B_2-12_total', 'Sample_DR1': '50A_2-12_total', 'Sample_DR32': '50A_3-6_VLP', 'Sample_DR7': '50A_3-27_total', 'Sample_DR6': '50C_3-6_total', 'Sample_DR5': '50B_3-6_total', 'Sample_DR4': '50A_3-6_total', 'Sample_DR55': '77A_3-12_VLP', 'Sample_DR65': '77B_4-2_IND', 'Sample_DR59': '77B_3-12_IND', 'Sample_DR36': '50B_3-6_IND', 'Sample_DR45': '77C_2-18_VLP', 'Sample_DR68': '77B_CECAL', 'Sample_DR66': '77C_4-2_IND', 'Sample_DR67': '77A_CECAL', 'Sample_DR64': '77A_4-2_IND', 'Sample_DR61': '77A_4-2_VLP', 'Sample_DR62': '77B_4-2_VLP', 'Sample_DR63': '77C_4-2_VLP', 'Sample_DR60': '77C_3-12_IND', 'Sample_DR49': '77A_2-19_VLP'}\n"
       ]
      }
     ],
     "prompt_number": 7
    },
    {
     "cell_type": "markdown",
     "metadata": {},
     "source": [
      "### Let's replace the old id with new id using this dictionary to change information in sequence_summary.txt.  Let's take a look at what information in this file first."
     ]
    },
    {
     "cell_type": "code",
     "collapsed": false,
     "input": [
      "for line in open(\"sequence_summary.txt\"):\n",
      "    dat = line.rstrip().split('\\t') \n",
      "    print dat"
     ],
     "language": "python",
     "metadata": {},
     "outputs": [
      {
       "output_type": "stream",
       "stream": "stdout",
       "text": [
        "['Lane', 'Sample ID', 'Sample Ref', 'Index', 'Control', 'Project', 'Yield (Mbases)', '% PF', '# Reads', '% of raw clusters per lane', '% Perfect Index Reads', '% One Mismatch Reads (Index)', '% of >= Q30 Bases (PF)', 'Mean Quality Score (PF)']\n",
        "['1', 'DR1', '', 'ACAGTG', 'N', 'Daina_Ringus', '\"4,142\"', '100', '\"41,009,488\"', '14.48', '100', '0', '95.04', '36.5']\n",
        "['1', 'DR2', '', 'GTGAAA', 'N', 'Daina_Ringus', '\"6,827\"', '100', '\"67,593,904\"', '23.87', '100', '0', '95.24', '36.57']\n",
        "['1', 'DR3', '', 'GCCAAT', 'N', 'Daina_Ringus', '\"11,896\"', '100', '\"117,777,564\"', '41.59', '100', '0', '95.49', '36.77']\n",
        "['1', 'DR4', '', 'CTTGTA', 'N', 'Daina_Ringus', '\"4,381\"', '100', '\"43,377,914\"', '15.32', '100', '0', '95.37', '36.69']\n",
        "['2', 'DR5', '', 'CAGATC', 'N', 'Daina_Ringus', '\"5,448\"', '100', '\"53,939,284\"', '41.55', '100', '0', '96.93', '37.19']\n",
        "['2', 'DR6', '', 'GGCTAC', 'N', 'Daina_Ringus', '\"2,888\"', '100', '\"28,591,364\"', '22.02', '100', '0', '96.81', '37.06']\n",
        "['2', 'DR7', '', 'ATCACG', 'N', 'Daina_Ringus', '\"2,177\"', '100', '\"21,553,336\"', '16.6', '100', '0', '96.72', '37.06']\n",
        "['2', 'DR8', '', 'GAGTGG', 'N', 'Daina_Ringus', '\"1,746\"', '100', '\"17,286,478\"', '13.32', '100', '0', '96.95', '37.2']\n",
        "['3', 'DR10', '', 'ACTTGA', 'N', 'Daina_Ringus', '\"10,719\"', '100', '\"106,124,800\"', '31.24', '100', '0', '93.96', '36.21']\n",
        "['3', 'DR11', '', 'CGATGT', 'N', 'Daina_Ringus', '\"7,157\"', '100', '\"70,865,306\"', '20.86', '100', '0', '94.62', '36.54']\n",
        "['3', 'DR12', '', 'GATCAG', 'N', 'Daina_Ringus', '\"3,797\"', '100', '\"37,591,042\"', '11.06', '100', '0', '92.92', '35.88']\n",
        "['3', 'DR9', '', 'TGACCA', 'N', 'Daina_Ringus', '\"10,771\"', '100', '\"106,641,384\"', '31.39', '100', '0', '93.95', '36.26']\n",
        "['4', 'DR13', '', 'GCCAAT', 'N', 'Daina_Ringus', '\"3,581\"', '100', '\"35,452,446\"', '9.14', '100', '0', '93.55', '36.16']\n",
        "['4', 'DR14', '', 'ACTTGA', 'N', 'Daina_Ringus', '\"9,202\"', '100', '\"91,104,950\"', '23.5', '100', '0', '93.38', '36.14']\n",
        "['4', 'DR15', '', 'TTAGGC', 'N', 'Daina_Ringus', '\"22,221\"', '100', '\"220,010,616\"', '56.74', '100', '0', '93.7', '36.38']\n",
        "['4', 'DR16', '', 'CGTACG', 'N', 'Daina_Ringus', '\"1,887\"', '100', '\"18,685,668\"', '4.82', '100', '0', '93.26', '36.06']\n",
        "['5', 'DR17', '', 'CGATGT', 'N', 'Daina_Ringus', '953', '100', '\"9,435,022\"', '3.85', '100', '0', '95.95', '36.84']\n",
        "['5', 'DR18', '', 'TGACCA', 'N', 'Daina_Ringus', '\"3,804\"', '100', '\"37,667,840\"', '15.35', '100', '0', '95.92', '36.79']\n",
        "['5', 'DR19', '', 'ACAGTG', 'N', 'Daina_Ringus', '\"2,767\"', '100', '\"27,400,296\"', '11.17', '100', '0', '96.01', '36.68']\n",
        "['5', 'DR20', '', 'GCCAAT', 'N', 'Daina_Ringus', '\"1,680\"', '100', '\"16,635,212\"', '6.78', '100', '0', '95.69', '36.6']\n",
        "['5', 'DR21', '', 'CAGATC', 'N', 'Daina_Ringus', '\"2,493\"', '100', '\"24,686,038\"', '10.06', '100', '0', '96.25', '36.87']\n",
        "['5', 'DR22', '', 'CTTGTA', 'N', 'Daina_Ringus', '\"1,795\"', '100', '\"17,768,828\"', '7.24', '100', '0', '95.81', '36.57']\n",
        "['5', 'DR23', '', 'AGTCAA', 'N', 'Daina_Ringus', '\"2,311\"', '100', '\"22,881,330\"', '9.33', '100', '0', '95.85', '36.62']\n",
        "['5', 'DR24', '', 'AGTTCC', 'N', 'Daina_Ringus', '\"2,511\"', '100', '\"24,863,198\"', '10.13', '100', '0', '95.91', '36.63']\n",
        "['5', 'DR25', '', 'ATGTCA', 'N', 'Daina_Ringus', '\"3,413\"', '100', '\"33,792,452\"', '13.77', '100', '0', '96.32', '37.01']\n",
        "['6', 'DR27', '', 'GTCCGC', 'N', 'Daina_Ringus', '\"3,690\"', '100', '\"36,537,004\"', '8.95', '100', '0', '92.15', '35.62']\n",
        "['6', 'DR28', '', 'GTGAAA', 'N', 'Daina_Ringus', '\"2,772\"', '100', '\"27,447,572\"', '6.72', '100', '0', '93.02', '35.92']\n",
        "['6', 'DR29', '', 'ATCACG', 'N', 'Daina_Ringus', '\"1,104\"', '100', '\"10,930,658\"', '2.68', '100', '0', '94.56', '36.6']\n",
        "['6', 'DR30', '', 'TTAGGC', 'N', 'Daina_Ringus', '\"1,552\"', '100', '\"15,361,500\"', '3.76', '100', '0', '93.75', '36.28']\n",
        "['6', 'DR31', '', 'ACTTGA', 'N', 'Daina_Ringus', '\"3,646\"', '100', '\"36,099,236\"', '8.84', '100', '0', '92.98', '35.85']\n",
        "['6', 'DR32', '', 'GATCAG', 'N', 'Daina_Ringus', '\"1,053\"', '100', '\"10,422,352\"', '2.55', '100', '0', '93.49', '36.14']\n",
        "['6', 'DR33', '', 'TAGCTT', 'N', 'Daina_Ringus', '\"1,352\"', '100', '\"13,383,978\"', '3.28', '100', '0', '93.36', '36.09']\n",
        "['6', 'DR34', '', 'GGCTAC', 'N', 'Daina_Ringus', '\"2,192\"', '100', '\"21,698,534\"', '5.32', '100', '0', '93.26', '36.06']\n",
        "['6', 'DR35', '', 'GTGGCC', 'N', 'Daina_Ringus', '\"3,750\"', '100', '\"37,126,584\"', '9.1', '100', '0', '92.43', '35.62']\n",
        "['6', 'DR36', '', 'GTTTCG', 'N', 'Daina_Ringus', '\"2,937\"', '100', '\"29,078,044\"', '7.12', '100', '0', '93.35', '36.07']\n",
        "['6', 'DR37', '', 'CGTACG', 'N', 'Daina_Ringus', '\"3,996\"', '100', '\"39,559,992\"', '9.69', '100', '0', '93.22', '35.96']\n",
        "['6', 'DR38', '', 'GAGTGG', 'N', 'Daina_Ringus', '\"5,746\"', '100', '\"56,889,932\"', '13.94', '100', '0', '93.63', '36.15']\n",
        "['6', 'DR39', '', 'ACTGAT', 'N', 'Daina_Ringus', '\"2,460\"', '100', '\"24,359,930\"', '5.97', '100', '0', '93.42', '36.1']\n",
        "['6', 'DR40', '', 'ATTCCT', 'N', 'Daina_Ringus', '\"3,943\"', '100', '\"39,037,604\"', '9.56', '100', '0', '93.96', '36.33']\n",
        "['7', 'DR41', '', 'CGATGT', 'N', 'Daina_Ringus', '\"2,434\"', '100', '\"24,097,574\"', '9.21', '100', '0', '96.2', '36.82']\n",
        "['7', 'DR42', '', 'TGACCA', 'N', 'Daina_Ringus', '\"1,840\"', '100', '\"18,213,230\"', '6.96', '100', '0', '96.29', '36.77']\n",
        "['7', 'DR43', '', 'ACAGTG', 'N', 'Daina_Ringus', '\"1,800\"', '100', '\"17,821,386\"', '6.81', '100', '0', '96.23', '36.81']\n",
        "['7', 'DR44', '', 'GCCAAT', 'N', 'Daina_Ringus', '\"1,838\"', '100', '\"18,195,814\"', '6.95', '100', '0', '96.19', '36.82']\n",
        "['7', 'DR45', '', 'CAGATC', 'N', 'Daina_Ringus', '\"1,792\"', '100', '\"17,744,086\"', '6.78', '100', '0', '96.17', '36.81']\n",
        "['7', 'DR46', '', 'CTTGTA', 'N', 'Daina_Ringus', '\"3,449\"', '100', '\"34,143,860\"', '13.05', '100', '0', '96.07', '36.74']\n",
        "['7', 'DR47', '', 'AGTCAA', 'N', 'Daina_Ringus', '\"1,816\"', '100', '\"17,980,510\"', '6.87', '100', '0', '96.1', '36.78']\n",
        "['7', 'DR48', '', 'AGTTCC', 'N', 'Daina_Ringus', '451', '100', '\"4,463,666\"', '1.71', '100', '0', '96.5', '36.95']\n",
        "['7', 'DR49', '', 'ATGTCA', 'N', 'Daina_Ringus', '\"1,362\"', '100', '\"13,485,714\"', '5.15', '100', '0', '96.3', '36.86']\n",
        "['7', 'DR50', '', 'CCGTCC', 'N', 'Daina_Ringus', '701', '100', '\"6,941,650\"', '2.65', '100', '0', '96.01', '36.77']\n",
        "['7', 'DR51', '', 'GTCCGC', 'N', 'Daina_Ringus', '\"1,506\"', '100', '\"14,913,320\"', '5.7', '100', '0', '96.09', '36.84']\n",
        "['7', 'DR52', '', 'GTGAAA', 'N', 'Daina_Ringus', '497', '100', '\"4,922,712\"', '1.88', '100', '0', '95.25', '36.57']\n",
        "['7', 'DR53', '', 'ATCACG', 'N', 'Daina_Ringus', '\"1,113\"', '100', '\"11,015,082\"', '4.21', '100', '0', '95.89', '36.65']\n",
        "['7', 'DR54', '', 'TTAGGC', 'N', 'Daina_Ringus', '\"3,730\"', '100', '\"36,931,592\"', '14.11', '100', '0', '95.73', '36.77']\n",
        "['8', 'DR55', '', 'ACTTGA', 'N', 'Daina_Ringus', '\"1,041\"', '100', '\"10,308,640\"', '4.3', '100', '0', '96.43', '37.06']\n",
        "['8', 'DR56', '', 'GATCAG', 'N', 'Daina_Ringus', '877', '100', '\"8,685,490\"', '3.62', '100', '0', '95.7', '37.03']\n",
        "['8', 'DR57', '', 'TAGCTT', 'N', 'Daina_Ringus', '\"1,480\"', '100', '\"14,658,004\"', '6.11', '100', '0', '95.37', '36.51']\n",
        "['8', 'DR58', '', 'GGCTAC', 'N', 'Daina_Ringus', '839', '100', '\"8,306,328\"', '3.46', '100', '0', '95.27', '36.58']\n",
        "['8', 'DR59', '', 'GTGGCC', 'N', 'Daina_Ringus', '\"1,384\"', '100', '\"13,704,238\"', '5.71', '100', '0', '95.97', '36.84']\n",
        "['8', 'DR60', '', 'GTTTCG', 'N', 'Daina_Ringus', '783', '100', '\"7,754,342\"', '3.23', '100', '0', '94.73', '36.23']\n",
        "['8', 'DR61', '', 'CGTACG', 'N', 'Daina_Ringus', '\"1,835\"', '100', '\"18,170,660\"', '7.58', '100', '0', '95.44', '36.47']\n",
        "['8', 'DR62', '', 'GAGTGG', 'N', 'Daina_Ringus', '\"1,480\"', '100', '\"14,651,944\"', '6.11', '100', '0', '95.7', '36.61']\n",
        "['8', 'DR63', '', 'ACTGAT', 'N', 'Daina_Ringus', '\"2,027\"', '100', '\"20,070,194\"', '8.37', '100', '0', '95.75', '36.62']\n",
        "['8', 'DR64', '', 'ATTCCT', 'N', 'Daina_Ringus', '\"1,250\"', '100', '\"12,376,040\"', '5.16', '100', '0', '96.22', '36.97']\n",
        "['8', 'DR65', '', 'CGATGT', 'N', 'Daina_Ringus', '\"1,729\"', '100', '\"17,117,656\"', '7.14', '100', '0', '96.16', '36.93']\n",
        "['8', 'DR66', '', 'TGACCA', 'N', 'Daina_Ringus', '766', '100', '\"7,588,556\"', '3.16', '100', '0', '96.23', '36.94']\n",
        "['8', 'DR67', '', 'GCCAAT', 'N', 'Daina_Ringus', '\"1,719\"', '100', '\"17,021,354\"', '7.1', '100', '0', '95.35', '36.52']\n",
        "['8', 'DR68', '', 'CAGATC', 'N', 'Daina_Ringus', '\"3,898\"', '100', '\"38,590,258\"', '16.09', '100', '0', '95.72', '36.63']\n"
       ]
      }
     ],
     "prompt_number": 10
    },
    {
     "cell_type": "markdown",
     "metadata": {},
     "source": [
      "### Hmmmm...we've got a unique first line that doesn't match the pattern.  We're going to have to tell the program to ignore the first line."
     ]
    },
    {
     "cell_type": "code",
     "collapsed": false,
     "input": [
      "count = 0 \n",
      "for line in open(\"sequence_summary.txt\"):\n",
      "    dat = line.rstrip().split('\\t') \n",
      "    print count, dat\n",
      "    count = count + 1"
     ],
     "language": "python",
     "metadata": {},
     "outputs": [
      {
       "output_type": "stream",
       "stream": "stdout",
       "text": [
        "0 ['Lane', 'Sample ID', 'Sample Ref', 'Index', 'Control', 'Project', 'Yield (Mbases)', '% PF', '# Reads', '% of raw clusters per lane', '% Perfect Index Reads', '% One Mismatch Reads (Index)', '% of >= Q30 Bases (PF)', 'Mean Quality Score (PF)']\n",
        "1 ['1', 'DR1', '', 'ACAGTG', 'N', 'Daina_Ringus', '\"4,142\"', '100', '\"41,009,488\"', '14.48', '100', '0', '95.04', '36.5']\n",
        "2 ['1', 'DR2', '', 'GTGAAA', 'N', 'Daina_Ringus', '\"6,827\"', '100', '\"67,593,904\"', '23.87', '100', '0', '95.24', '36.57']\n",
        "3 ['1', 'DR3', '', 'GCCAAT', 'N', 'Daina_Ringus', '\"11,896\"', '100', '\"117,777,564\"', '41.59', '100', '0', '95.49', '36.77']\n",
        "4 ['1', 'DR4', '', 'CTTGTA', 'N', 'Daina_Ringus', '\"4,381\"', '100', '\"43,377,914\"', '15.32', '100', '0', '95.37', '36.69']\n",
        "5 ['2', 'DR5', '', 'CAGATC', 'N', 'Daina_Ringus', '\"5,448\"', '100', '\"53,939,284\"', '41.55', '100', '0', '96.93', '37.19']\n",
        "6 ['2', 'DR6', '', 'GGCTAC', 'N', 'Daina_Ringus', '\"2,888\"', '100', '\"28,591,364\"', '22.02', '100', '0', '96.81', '37.06']\n",
        "7 ['2', 'DR7', '', 'ATCACG', 'N', 'Daina_Ringus', '\"2,177\"', '100', '\"21,553,336\"', '16.6', '100', '0', '96.72', '37.06']\n",
        "8 ['2', 'DR8', '', 'GAGTGG', 'N', 'Daina_Ringus', '\"1,746\"', '100', '\"17,286,478\"', '13.32', '100', '0', '96.95', '37.2']\n",
        "9 ['3', 'DR10', '', 'ACTTGA', 'N', 'Daina_Ringus', '\"10,719\"', '100', '\"106,124,800\"', '31.24', '100', '0', '93.96', '36.21']\n",
        "10 ['3', 'DR11', '', 'CGATGT', 'N', 'Daina_Ringus', '\"7,157\"', '100', '\"70,865,306\"', '20.86', '100', '0', '94.62', '36.54']\n",
        "11 ['3', 'DR12', '', 'GATCAG', 'N', 'Daina_Ringus', '\"3,797\"', '100', '\"37,591,042\"', '11.06', '100', '0', '92.92', '35.88']\n",
        "12 ['3', 'DR9', '', 'TGACCA', 'N', 'Daina_Ringus', '\"10,771\"', '100', '\"106,641,384\"', '31.39', '100', '0', '93.95', '36.26']\n",
        "13 ['4', 'DR13', '', 'GCCAAT', 'N', 'Daina_Ringus', '\"3,581\"', '100', '\"35,452,446\"', '9.14', '100', '0', '93.55', '36.16']\n",
        "14 ['4', 'DR14', '', 'ACTTGA', 'N', 'Daina_Ringus', '\"9,202\"', '100', '\"91,104,950\"', '23.5', '100', '0', '93.38', '36.14']\n",
        "15 ['4', 'DR15', '', 'TTAGGC', 'N', 'Daina_Ringus', '\"22,221\"', '100', '\"220,010,616\"', '56.74', '100', '0', '93.7', '36.38']\n",
        "16 ['4', 'DR16', '', 'CGTACG', 'N', 'Daina_Ringus', '\"1,887\"', '100', '\"18,685,668\"', '4.82', '100', '0', '93.26', '36.06']\n",
        "17 ['5', 'DR17', '', 'CGATGT', 'N', 'Daina_Ringus', '953', '100', '\"9,435,022\"', '3.85', '100', '0', '95.95', '36.84']\n",
        "18 ['5', 'DR18', '', 'TGACCA', 'N', 'Daina_Ringus', '\"3,804\"', '100', '\"37,667,840\"', '15.35', '100', '0', '95.92', '36.79']\n",
        "19 ['5', 'DR19', '', 'ACAGTG', 'N', 'Daina_Ringus', '\"2,767\"', '100', '\"27,400,296\"', '11.17', '100', '0', '96.01', '36.68']\n",
        "20 ['5', 'DR20', '', 'GCCAAT', 'N', 'Daina_Ringus', '\"1,680\"', '100', '\"16,635,212\"', '6.78', '100', '0', '95.69', '36.6']\n",
        "21 ['5', 'DR21', '', 'CAGATC', 'N', 'Daina_Ringus', '\"2,493\"', '100', '\"24,686,038\"', '10.06', '100', '0', '96.25', '36.87']\n",
        "22 ['5', 'DR22', '', 'CTTGTA', 'N', 'Daina_Ringus', '\"1,795\"', '100', '\"17,768,828\"', '7.24', '100', '0', '95.81', '36.57']\n",
        "23 ['5', 'DR23', '', 'AGTCAA', 'N', 'Daina_Ringus', '\"2,311\"', '100', '\"22,881,330\"', '9.33', '100', '0', '95.85', '36.62']\n",
        "24 ['5', 'DR24', '', 'AGTTCC', 'N', 'Daina_Ringus', '\"2,511\"', '100', '\"24,863,198\"', '10.13', '100', '0', '95.91', '36.63']\n",
        "25 ['5', 'DR25', '', 'ATGTCA', 'N', 'Daina_Ringus', '\"3,413\"', '100', '\"33,792,452\"', '13.77', '100', '0', '96.32', '37.01']\n",
        "26 ['6', 'DR27', '', 'GTCCGC', 'N', 'Daina_Ringus', '\"3,690\"', '100', '\"36,537,004\"', '8.95', '100', '0', '92.15', '35.62']\n",
        "27 ['6', 'DR28', '', 'GTGAAA', 'N', 'Daina_Ringus', '\"2,772\"', '100', '\"27,447,572\"', '6.72', '100', '0', '93.02', '35.92']\n",
        "28 ['6', 'DR29', '', 'ATCACG', 'N', 'Daina_Ringus', '\"1,104\"', '100', '\"10,930,658\"', '2.68', '100', '0', '94.56', '36.6']\n",
        "29 ['6', 'DR30', '', 'TTAGGC', 'N', 'Daina_Ringus', '\"1,552\"', '100', '\"15,361,500\"', '3.76', '100', '0', '93.75', '36.28']\n",
        "30 ['6', 'DR31', '', 'ACTTGA', 'N', 'Daina_Ringus', '\"3,646\"', '100', '\"36,099,236\"', '8.84', '100', '0', '92.98', '35.85']\n",
        "31 ['6', 'DR32', '', 'GATCAG', 'N', 'Daina_Ringus', '\"1,053\"', '100', '\"10,422,352\"', '2.55', '100', '0', '93.49', '36.14']\n",
        "32 ['6', 'DR33', '', 'TAGCTT', 'N', 'Daina_Ringus', '\"1,352\"', '100', '\"13,383,978\"', '3.28', '100', '0', '93.36', '36.09']\n",
        "33 ['6', 'DR34', '', 'GGCTAC', 'N', 'Daina_Ringus', '\"2,192\"', '100', '\"21,698,534\"', '5.32', '100', '0', '93.26', '36.06']\n",
        "34 ['6', 'DR35', '', 'GTGGCC', 'N', 'Daina_Ringus', '\"3,750\"', '100', '\"37,126,584\"', '9.1', '100', '0', '92.43', '35.62']\n",
        "35 ['6', 'DR36', '', 'GTTTCG', 'N', 'Daina_Ringus', '\"2,937\"', '100', '\"29,078,044\"', '7.12', '100', '0', '93.35', '36.07']\n",
        "36 ['6', 'DR37', '', 'CGTACG', 'N', 'Daina_Ringus', '\"3,996\"', '100', '\"39,559,992\"', '9.69', '100', '0', '93.22', '35.96']\n",
        "37 ['6', 'DR38', '', 'GAGTGG', 'N', 'Daina_Ringus', '\"5,746\"', '100', '\"56,889,932\"', '13.94', '100', '0', '93.63', '36.15']\n",
        "38 ['6', 'DR39', '', 'ACTGAT', 'N', 'Daina_Ringus', '\"2,460\"', '100', '\"24,359,930\"', '5.97', '100', '0', '93.42', '36.1']\n",
        "39 ['6', 'DR40', '', 'ATTCCT', 'N', 'Daina_Ringus', '\"3,943\"', '100', '\"39,037,604\"', '9.56', '100', '0', '93.96', '36.33']\n",
        "40 ['7', 'DR41', '', 'CGATGT', 'N', 'Daina_Ringus', '\"2,434\"', '100', '\"24,097,574\"', '9.21', '100', '0', '96.2', '36.82']\n",
        "41 ['7', 'DR42', '', 'TGACCA', 'N', 'Daina_Ringus', '\"1,840\"', '100', '\"18,213,230\"', '6.96', '100', '0', '96.29', '36.77']\n",
        "42 ['7', 'DR43', '', 'ACAGTG', 'N', 'Daina_Ringus', '\"1,800\"', '100', '\"17,821,386\"', '6.81', '100', '0', '96.23', '36.81']\n",
        "43 ['7', 'DR44', '', 'GCCAAT', 'N', 'Daina_Ringus', '\"1,838\"', '100', '\"18,195,814\"', '6.95', '100', '0', '96.19', '36.82']\n",
        "44 ['7', 'DR45', '', 'CAGATC', 'N', 'Daina_Ringus', '\"1,792\"', '100', '\"17,744,086\"', '6.78', '100', '0', '96.17', '36.81']\n",
        "45 ['7', 'DR46', '', 'CTTGTA', 'N', 'Daina_Ringus', '\"3,449\"', '100', '\"34,143,860\"', '13.05', '100', '0', '96.07', '36.74']\n",
        "46 ['7', 'DR47', '', 'AGTCAA', 'N', 'Daina_Ringus', '\"1,816\"', '100', '\"17,980,510\"', '6.87', '100', '0', '96.1', '36.78']\n",
        "47 ['7', 'DR48', '', 'AGTTCC', 'N', 'Daina_Ringus', '451', '100', '\"4,463,666\"', '1.71', '100', '0', '96.5', '36.95']\n",
        "48 ['7', 'DR49', '', 'ATGTCA', 'N', 'Daina_Ringus', '\"1,362\"', '100', '\"13,485,714\"', '5.15', '100', '0', '96.3', '36.86']\n",
        "49 ['7', 'DR50', '', 'CCGTCC', 'N', 'Daina_Ringus', '701', '100', '\"6,941,650\"', '2.65', '100', '0', '96.01', '36.77']\n",
        "50 ['7', 'DR51', '', 'GTCCGC', 'N', 'Daina_Ringus', '\"1,506\"', '100', '\"14,913,320\"', '5.7', '100', '0', '96.09', '36.84']\n",
        "51 ['7', 'DR52', '', 'GTGAAA', 'N', 'Daina_Ringus', '497', '100', '\"4,922,712\"', '1.88', '100', '0', '95.25', '36.57']\n",
        "52 ['7', 'DR53', '', 'ATCACG', 'N', 'Daina_Ringus', '\"1,113\"', '100', '\"11,015,082\"', '4.21', '100', '0', '95.89', '36.65']\n",
        "53 ['7', 'DR54', '', 'TTAGGC', 'N', 'Daina_Ringus', '\"3,730\"', '100', '\"36,931,592\"', '14.11', '100', '0', '95.73', '36.77']\n",
        "54 ['8', 'DR55', '', 'ACTTGA', 'N', 'Daina_Ringus', '\"1,041\"', '100', '\"10,308,640\"', '4.3', '100', '0', '96.43', '37.06']\n",
        "55 ['8', 'DR56', '', 'GATCAG', 'N', 'Daina_Ringus', '877', '100', '\"8,685,490\"', '3.62', '100', '0', '95.7', '37.03']\n",
        "56 ['8', 'DR57', '', 'TAGCTT', 'N', 'Daina_Ringus', '\"1,480\"', '100', '\"14,658,004\"', '6.11', '100', '0', '95.37', '36.51']\n",
        "57 ['8', 'DR58', '', 'GGCTAC', 'N', 'Daina_Ringus', '839', '100', '\"8,306,328\"', '3.46', '100', '0', '95.27', '36.58']\n",
        "58 ['8', 'DR59', '', 'GTGGCC', 'N', 'Daina_Ringus', '\"1,384\"', '100', '\"13,704,238\"', '5.71', '100', '0', '95.97', '36.84']\n",
        "59 ['8', 'DR60', '', 'GTTTCG', 'N', 'Daina_Ringus', '783', '100', '\"7,754,342\"', '3.23', '100', '0', '94.73', '36.23']\n",
        "60 ['8', 'DR61', '', 'CGTACG', 'N', 'Daina_Ringus', '\"1,835\"', '100', '\"18,170,660\"', '7.58', '100', '0', '95.44', '36.47']\n",
        "61 ['8', 'DR62', '', 'GAGTGG', 'N', 'Daina_Ringus', '\"1,480\"', '100', '\"14,651,944\"', '6.11', '100', '0', '95.7', '36.61']\n",
        "62 ['8', 'DR63', '', 'ACTGAT', 'N', 'Daina_Ringus', '\"2,027\"', '100', '\"20,070,194\"', '8.37', '100', '0', '95.75', '36.62']\n",
        "63 ['8', 'DR64', '', 'ATTCCT', 'N', 'Daina_Ringus', '\"1,250\"', '100', '\"12,376,040\"', '5.16', '100', '0', '96.22', '36.97']\n",
        "64 ['8', 'DR65', '', 'CGATGT', 'N', 'Daina_Ringus', '\"1,729\"', '100', '\"17,117,656\"', '7.14', '100', '0', '96.16', '36.93']\n",
        "65 ['8', 'DR66', '', 'TGACCA', 'N', 'Daina_Ringus', '766', '100', '\"7,588,556\"', '3.16', '100', '0', '96.23', '36.94']\n",
        "66 ['8', 'DR67', '', 'GCCAAT', 'N', 'Daina_Ringus', '\"1,719\"', '100', '\"17,021,354\"', '7.1', '100', '0', '95.35', '36.52']\n",
        "67 ['8', 'DR68', '', 'CAGATC', 'N', 'Daina_Ringus', '\"3,898\"', '100', '\"38,590,258\"', '16.09', '100', '0', '95.72', '36.63']\n"
       ]
      }
     ],
     "prompt_number": 11
    },
    {
     "cell_type": "code",
     "collapsed": false,
     "input": [
      "count = 0 \n",
      "for line in open(\"sequence_summary.txt\"):\n",
      "    if count > 0:\n",
      "        dat = line.rstrip().split('\\t') \n",
      "        print count, dat\n",
      "    count = count + 1\n"
     ],
     "language": "python",
     "metadata": {},
     "outputs": [
      {
       "output_type": "stream",
       "stream": "stdout",
       "text": [
        "1 ['1', 'DR1', '', 'ACAGTG', 'N', 'Daina_Ringus', '\"4,142\"', '100', '\"41,009,488\"', '14.48', '100', '0', '95.04', '36.5']\n",
        "2 ['1', 'DR2', '', 'GTGAAA', 'N', 'Daina_Ringus', '\"6,827\"', '100', '\"67,593,904\"', '23.87', '100', '0', '95.24', '36.57']\n",
        "3 ['1', 'DR3', '', 'GCCAAT', 'N', 'Daina_Ringus', '\"11,896\"', '100', '\"117,777,564\"', '41.59', '100', '0', '95.49', '36.77']\n",
        "4 ['1', 'DR4', '', 'CTTGTA', 'N', 'Daina_Ringus', '\"4,381\"', '100', '\"43,377,914\"', '15.32', '100', '0', '95.37', '36.69']\n",
        "5 ['2', 'DR5', '', 'CAGATC', 'N', 'Daina_Ringus', '\"5,448\"', '100', '\"53,939,284\"', '41.55', '100', '0', '96.93', '37.19']\n",
        "6 ['2', 'DR6', '', 'GGCTAC', 'N', 'Daina_Ringus', '\"2,888\"', '100', '\"28,591,364\"', '22.02', '100', '0', '96.81', '37.06']\n",
        "7 ['2', 'DR7', '', 'ATCACG', 'N', 'Daina_Ringus', '\"2,177\"', '100', '\"21,553,336\"', '16.6', '100', '0', '96.72', '37.06']\n",
        "8 ['2', 'DR8', '', 'GAGTGG', 'N', 'Daina_Ringus', '\"1,746\"', '100', '\"17,286,478\"', '13.32', '100', '0', '96.95', '37.2']\n",
        "9 ['3', 'DR10', '', 'ACTTGA', 'N', 'Daina_Ringus', '\"10,719\"', '100', '\"106,124,800\"', '31.24', '100', '0', '93.96', '36.21']\n",
        "10 ['3', 'DR11', '', 'CGATGT', 'N', 'Daina_Ringus', '\"7,157\"', '100', '\"70,865,306\"', '20.86', '100', '0', '94.62', '36.54']\n",
        "11 ['3', 'DR12', '', 'GATCAG', 'N', 'Daina_Ringus', '\"3,797\"', '100', '\"37,591,042\"', '11.06', '100', '0', '92.92', '35.88']\n",
        "12 ['3', 'DR9', '', 'TGACCA', 'N', 'Daina_Ringus', '\"10,771\"', '100', '\"106,641,384\"', '31.39', '100', '0', '93.95', '36.26']\n",
        "13 ['4', 'DR13', '', 'GCCAAT', 'N', 'Daina_Ringus', '\"3,581\"', '100', '\"35,452,446\"', '9.14', '100', '0', '93.55', '36.16']\n",
        "14 ['4', 'DR14', '', 'ACTTGA', 'N', 'Daina_Ringus', '\"9,202\"', '100', '\"91,104,950\"', '23.5', '100', '0', '93.38', '36.14']\n",
        "15 ['4', 'DR15', '', 'TTAGGC', 'N', 'Daina_Ringus', '\"22,221\"', '100', '\"220,010,616\"', '56.74', '100', '0', '93.7', '36.38']\n",
        "16 ['4', 'DR16', '', 'CGTACG', 'N', 'Daina_Ringus', '\"1,887\"', '100', '\"18,685,668\"', '4.82', '100', '0', '93.26', '36.06']\n",
        "17 ['5', 'DR17', '', 'CGATGT', 'N', 'Daina_Ringus', '953', '100', '\"9,435,022\"', '3.85', '100', '0', '95.95', '36.84']\n",
        "18 ['5', 'DR18', '', 'TGACCA', 'N', 'Daina_Ringus', '\"3,804\"', '100', '\"37,667,840\"', '15.35', '100', '0', '95.92', '36.79']\n",
        "19 ['5', 'DR19', '', 'ACAGTG', 'N', 'Daina_Ringus', '\"2,767\"', '100', '\"27,400,296\"', '11.17', '100', '0', '96.01', '36.68']\n",
        "20 ['5', 'DR20', '', 'GCCAAT', 'N', 'Daina_Ringus', '\"1,680\"', '100', '\"16,635,212\"', '6.78', '100', '0', '95.69', '36.6']\n",
        "21 ['5', 'DR21', '', 'CAGATC', 'N', 'Daina_Ringus', '\"2,493\"', '100', '\"24,686,038\"', '10.06', '100', '0', '96.25', '36.87']\n",
        "22 ['5', 'DR22', '', 'CTTGTA', 'N', 'Daina_Ringus', '\"1,795\"', '100', '\"17,768,828\"', '7.24', '100', '0', '95.81', '36.57']\n",
        "23 ['5', 'DR23', '', 'AGTCAA', 'N', 'Daina_Ringus', '\"2,311\"', '100', '\"22,881,330\"', '9.33', '100', '0', '95.85', '36.62']\n",
        "24 ['5', 'DR24', '', 'AGTTCC', 'N', 'Daina_Ringus', '\"2,511\"', '100', '\"24,863,198\"', '10.13', '100', '0', '95.91', '36.63']\n",
        "25 ['5', 'DR25', '', 'ATGTCA', 'N', 'Daina_Ringus', '\"3,413\"', '100', '\"33,792,452\"', '13.77', '100', '0', '96.32', '37.01']\n",
        "26 ['6', 'DR27', '', 'GTCCGC', 'N', 'Daina_Ringus', '\"3,690\"', '100', '\"36,537,004\"', '8.95', '100', '0', '92.15', '35.62']\n",
        "27 ['6', 'DR28', '', 'GTGAAA', 'N', 'Daina_Ringus', '\"2,772\"', '100', '\"27,447,572\"', '6.72', '100', '0', '93.02', '35.92']\n",
        "28 ['6', 'DR29', '', 'ATCACG', 'N', 'Daina_Ringus', '\"1,104\"', '100', '\"10,930,658\"', '2.68', '100', '0', '94.56', '36.6']\n",
        "29 ['6', 'DR30', '', 'TTAGGC', 'N', 'Daina_Ringus', '\"1,552\"', '100', '\"15,361,500\"', '3.76', '100', '0', '93.75', '36.28']\n",
        "30 ['6', 'DR31', '', 'ACTTGA', 'N', 'Daina_Ringus', '\"3,646\"', '100', '\"36,099,236\"', '8.84', '100', '0', '92.98', '35.85']\n",
        "31 ['6', 'DR32', '', 'GATCAG', 'N', 'Daina_Ringus', '\"1,053\"', '100', '\"10,422,352\"', '2.55', '100', '0', '93.49', '36.14']\n",
        "32 ['6', 'DR33', '', 'TAGCTT', 'N', 'Daina_Ringus', '\"1,352\"', '100', '\"13,383,978\"', '3.28', '100', '0', '93.36', '36.09']\n",
        "33 ['6', 'DR34', '', 'GGCTAC', 'N', 'Daina_Ringus', '\"2,192\"', '100', '\"21,698,534\"', '5.32', '100', '0', '93.26', '36.06']\n",
        "34 ['6', 'DR35', '', 'GTGGCC', 'N', 'Daina_Ringus', '\"3,750\"', '100', '\"37,126,584\"', '9.1', '100', '0', '92.43', '35.62']\n",
        "35 ['6', 'DR36', '', 'GTTTCG', 'N', 'Daina_Ringus', '\"2,937\"', '100', '\"29,078,044\"', '7.12', '100', '0', '93.35', '36.07']\n",
        "36 ['6', 'DR37', '', 'CGTACG', 'N', 'Daina_Ringus', '\"3,996\"', '100', '\"39,559,992\"', '9.69', '100', '0', '93.22', '35.96']\n",
        "37 ['6', 'DR38', '', 'GAGTGG', 'N', 'Daina_Ringus', '\"5,746\"', '100', '\"56,889,932\"', '13.94', '100', '0', '93.63', '36.15']\n",
        "38 ['6', 'DR39', '', 'ACTGAT', 'N', 'Daina_Ringus', '\"2,460\"', '100', '\"24,359,930\"', '5.97', '100', '0', '93.42', '36.1']\n",
        "39 ['6', 'DR40', '', 'ATTCCT', 'N', 'Daina_Ringus', '\"3,943\"', '100', '\"39,037,604\"', '9.56', '100', '0', '93.96', '36.33']\n",
        "40 ['7', 'DR41', '', 'CGATGT', 'N', 'Daina_Ringus', '\"2,434\"', '100', '\"24,097,574\"', '9.21', '100', '0', '96.2', '36.82']\n",
        "41 ['7', 'DR42', '', 'TGACCA', 'N', 'Daina_Ringus', '\"1,840\"', '100', '\"18,213,230\"', '6.96', '100', '0', '96.29', '36.77']\n",
        "42 ['7', 'DR43', '', 'ACAGTG', 'N', 'Daina_Ringus', '\"1,800\"', '100', '\"17,821,386\"', '6.81', '100', '0', '96.23', '36.81']\n",
        "43 ['7', 'DR44', '', 'GCCAAT', 'N', 'Daina_Ringus', '\"1,838\"', '100', '\"18,195,814\"', '6.95', '100', '0', '96.19', '36.82']\n",
        "44 ['7', 'DR45', '', 'CAGATC', 'N', 'Daina_Ringus', '\"1,792\"', '100', '\"17,744,086\"', '6.78', '100', '0', '96.17', '36.81']\n",
        "45 ['7', 'DR46', '', 'CTTGTA', 'N', 'Daina_Ringus', '\"3,449\"', '100', '\"34,143,860\"', '13.05', '100', '0', '96.07', '36.74']\n",
        "46 ['7', 'DR47', '', 'AGTCAA', 'N', 'Daina_Ringus', '\"1,816\"', '100', '\"17,980,510\"', '6.87', '100', '0', '96.1', '36.78']\n",
        "47 ['7', 'DR48', '', 'AGTTCC', 'N', 'Daina_Ringus', '451', '100', '\"4,463,666\"', '1.71', '100', '0', '96.5', '36.95']\n",
        "48 ['7', 'DR49', '', 'ATGTCA', 'N', 'Daina_Ringus', '\"1,362\"', '100', '\"13,485,714\"', '5.15', '100', '0', '96.3', '36.86']\n",
        "49 ['7', 'DR50', '', 'CCGTCC', 'N', 'Daina_Ringus', '701', '100', '\"6,941,650\"', '2.65', '100', '0', '96.01', '36.77']\n",
        "50 ['7', 'DR51', '', 'GTCCGC', 'N', 'Daina_Ringus', '\"1,506\"', '100', '\"14,913,320\"', '5.7', '100', '0', '96.09', '36.84']\n",
        "51 ['7', 'DR52', '', 'GTGAAA', 'N', 'Daina_Ringus', '497', '100', '\"4,922,712\"', '1.88', '100', '0', '95.25', '36.57']\n",
        "52 ['7', 'DR53', '', 'ATCACG', 'N', 'Daina_Ringus', '\"1,113\"', '100', '\"11,015,082\"', '4.21', '100', '0', '95.89', '36.65']\n",
        "53 ['7', 'DR54', '', 'TTAGGC', 'N', 'Daina_Ringus', '\"3,730\"', '100', '\"36,931,592\"', '14.11', '100', '0', '95.73', '36.77']\n",
        "54 ['8', 'DR55', '', 'ACTTGA', 'N', 'Daina_Ringus', '\"1,041\"', '100', '\"10,308,640\"', '4.3', '100', '0', '96.43', '37.06']\n",
        "55 ['8', 'DR56', '', 'GATCAG', 'N', 'Daina_Ringus', '877', '100', '\"8,685,490\"', '3.62', '100', '0', '95.7', '37.03']\n",
        "56 ['8', 'DR57', '', 'TAGCTT', 'N', 'Daina_Ringus', '\"1,480\"', '100', '\"14,658,004\"', '6.11', '100', '0', '95.37', '36.51']\n",
        "57 ['8', 'DR58', '', 'GGCTAC', 'N', 'Daina_Ringus', '839', '100', '\"8,306,328\"', '3.46', '100', '0', '95.27', '36.58']\n",
        "58 ['8', 'DR59', '', 'GTGGCC', 'N', 'Daina_Ringus', '\"1,384\"', '100', '\"13,704,238\"', '5.71', '100', '0', '95.97', '36.84']\n",
        "59 ['8', 'DR60', '', 'GTTTCG', 'N', 'Daina_Ringus', '783', '100', '\"7,754,342\"', '3.23', '100', '0', '94.73', '36.23']\n",
        "60 ['8', 'DR61', '', 'CGTACG', 'N', 'Daina_Ringus', '\"1,835\"', '100', '\"18,170,660\"', '7.58', '100', '0', '95.44', '36.47']\n",
        "61 ['8', 'DR62', '', 'GAGTGG', 'N', 'Daina_Ringus', '\"1,480\"', '100', '\"14,651,944\"', '6.11', '100', '0', '95.7', '36.61']\n",
        "62 ['8', 'DR63', '', 'ACTGAT', 'N', 'Daina_Ringus', '\"2,027\"', '100', '\"20,070,194\"', '8.37', '100', '0', '95.75', '36.62']\n",
        "63 ['8', 'DR64', '', 'ATTCCT', 'N', 'Daina_Ringus', '\"1,250\"', '100', '\"12,376,040\"', '5.16', '100', '0', '96.22', '36.97']\n",
        "64 ['8', 'DR65', '', 'CGATGT', 'N', 'Daina_Ringus', '\"1,729\"', '100', '\"17,117,656\"', '7.14', '100', '0', '96.16', '36.93']\n",
        "65 ['8', 'DR66', '', 'TGACCA', 'N', 'Daina_Ringus', '766', '100', '\"7,588,556\"', '3.16', '100', '0', '96.23', '36.94']\n",
        "66 ['8', 'DR67', '', 'GCCAAT', 'N', 'Daina_Ringus', '\"1,719\"', '100', '\"17,021,354\"', '7.1', '100', '0', '95.35', '36.52']\n",
        "67 ['8', 'DR68', '', 'CAGATC', 'N', 'Daina_Ringus', '\"3,898\"', '100', '\"38,590,258\"', '16.09', '100', '0', '95.72', '36.63']\n"
       ]
      }
     ],
     "prompt_number": 15
    },
    {
     "cell_type": "markdown",
     "metadata": {},
     "source": [
      "There is a useful function in python called *enumerate* that I use frequently in my scripts."
     ]
    },
    {
     "cell_type": "code",
     "collapsed": false,
     "input": [
      "?enumerate"
     ],
     "language": "python",
     "metadata": {},
     "outputs": [],
     "prompt_number": 18
    },
    {
     "cell_type": "code",
     "collapsed": false,
     "input": [
      "for n, line in enumerate(open(\"sequence_summary.txt\")):\n",
      "    if n > 0:\n",
      "        dat = line.rstrip().split('\\t') \n",
      "        print dat"
     ],
     "language": "python",
     "metadata": {},
     "outputs": [
      {
       "output_type": "stream",
       "stream": "stdout",
       "text": [
        "['1', 'DR1', '', 'ACAGTG', 'N', 'Daina_Ringus', '\"4,142\"', '100', '\"41,009,488\"', '14.48', '100', '0', '95.04', '36.5']\n",
        "['1', 'DR2', '', 'GTGAAA', 'N', 'Daina_Ringus', '\"6,827\"', '100', '\"67,593,904\"', '23.87', '100', '0', '95.24', '36.57']\n",
        "['1', 'DR3', '', 'GCCAAT', 'N', 'Daina_Ringus', '\"11,896\"', '100', '\"117,777,564\"', '41.59', '100', '0', '95.49', '36.77']\n",
        "['1', 'DR4', '', 'CTTGTA', 'N', 'Daina_Ringus', '\"4,381\"', '100', '\"43,377,914\"', '15.32', '100', '0', '95.37', '36.69']\n",
        "['2', 'DR5', '', 'CAGATC', 'N', 'Daina_Ringus', '\"5,448\"', '100', '\"53,939,284\"', '41.55', '100', '0', '96.93', '37.19']\n",
        "['2', 'DR6', '', 'GGCTAC', 'N', 'Daina_Ringus', '\"2,888\"', '100', '\"28,591,364\"', '22.02', '100', '0', '96.81', '37.06']\n",
        "['2', 'DR7', '', 'ATCACG', 'N', 'Daina_Ringus', '\"2,177\"', '100', '\"21,553,336\"', '16.6', '100', '0', '96.72', '37.06']\n",
        "['2', 'DR8', '', 'GAGTGG', 'N', 'Daina_Ringus', '\"1,746\"', '100', '\"17,286,478\"', '13.32', '100', '0', '96.95', '37.2']\n",
        "['3', 'DR10', '', 'ACTTGA', 'N', 'Daina_Ringus', '\"10,719\"', '100', '\"106,124,800\"', '31.24', '100', '0', '93.96', '36.21']\n",
        "['3', 'DR11', '', 'CGATGT', 'N', 'Daina_Ringus', '\"7,157\"', '100', '\"70,865,306\"', '20.86', '100', '0', '94.62', '36.54']\n",
        "['3', 'DR12', '', 'GATCAG', 'N', 'Daina_Ringus', '\"3,797\"', '100', '\"37,591,042\"', '11.06', '100', '0', '92.92', '35.88']\n",
        "['3', 'DR9', '', 'TGACCA', 'N', 'Daina_Ringus', '\"10,771\"', '100', '\"106,641,384\"', '31.39', '100', '0', '93.95', '36.26']\n",
        "['4', 'DR13', '', 'GCCAAT', 'N', 'Daina_Ringus', '\"3,581\"', '100', '\"35,452,446\"', '9.14', '100', '0', '93.55', '36.16']\n",
        "['4', 'DR14', '', 'ACTTGA', 'N', 'Daina_Ringus', '\"9,202\"', '100', '\"91,104,950\"', '23.5', '100', '0', '93.38', '36.14']\n",
        "['4', 'DR15', '', 'TTAGGC', 'N', 'Daina_Ringus', '\"22,221\"', '100', '\"220,010,616\"', '56.74', '100', '0', '93.7', '36.38']\n",
        "['4', 'DR16', '', 'CGTACG', 'N', 'Daina_Ringus', '\"1,887\"', '100', '\"18,685,668\"', '4.82', '100', '0', '93.26', '36.06']\n",
        "['5', 'DR17', '', 'CGATGT', 'N', 'Daina_Ringus', '953', '100', '\"9,435,022\"', '3.85', '100', '0', '95.95', '36.84']\n",
        "['5', 'DR18', '', 'TGACCA', 'N', 'Daina_Ringus', '\"3,804\"', '100', '\"37,667,840\"', '15.35', '100', '0', '95.92', '36.79']\n",
        "['5', 'DR19', '', 'ACAGTG', 'N', 'Daina_Ringus', '\"2,767\"', '100', '\"27,400,296\"', '11.17', '100', '0', '96.01', '36.68']\n",
        "['5', 'DR20', '', 'GCCAAT', 'N', 'Daina_Ringus', '\"1,680\"', '100', '\"16,635,212\"', '6.78', '100', '0', '95.69', '36.6']\n",
        "['5', 'DR21', '', 'CAGATC', 'N', 'Daina_Ringus', '\"2,493\"', '100', '\"24,686,038\"', '10.06', '100', '0', '96.25', '36.87']\n",
        "['5', 'DR22', '', 'CTTGTA', 'N', 'Daina_Ringus', '\"1,795\"', '100', '\"17,768,828\"', '7.24', '100', '0', '95.81', '36.57']\n",
        "['5', 'DR23', '', 'AGTCAA', 'N', 'Daina_Ringus', '\"2,311\"', '100', '\"22,881,330\"', '9.33', '100', '0', '95.85', '36.62']\n",
        "['5', 'DR24', '', 'AGTTCC', 'N', 'Daina_Ringus', '\"2,511\"', '100', '\"24,863,198\"', '10.13', '100', '0', '95.91', '36.63']\n",
        "['5', 'DR25', '', 'ATGTCA', 'N', 'Daina_Ringus', '\"3,413\"', '100', '\"33,792,452\"', '13.77', '100', '0', '96.32', '37.01']\n",
        "['6', 'DR27', '', 'GTCCGC', 'N', 'Daina_Ringus', '\"3,690\"', '100', '\"36,537,004\"', '8.95', '100', '0', '92.15', '35.62']\n",
        "['6', 'DR28', '', 'GTGAAA', 'N', 'Daina_Ringus', '\"2,772\"', '100', '\"27,447,572\"', '6.72', '100', '0', '93.02', '35.92']\n",
        "['6', 'DR29', '', 'ATCACG', 'N', 'Daina_Ringus', '\"1,104\"', '100', '\"10,930,658\"', '2.68', '100', '0', '94.56', '36.6']\n",
        "['6', 'DR30', '', 'TTAGGC', 'N', 'Daina_Ringus', '\"1,552\"', '100', '\"15,361,500\"', '3.76', '100', '0', '93.75', '36.28']\n",
        "['6', 'DR31', '', 'ACTTGA', 'N', 'Daina_Ringus', '\"3,646\"', '100', '\"36,099,236\"', '8.84', '100', '0', '92.98', '35.85']\n",
        "['6', 'DR32', '', 'GATCAG', 'N', 'Daina_Ringus', '\"1,053\"', '100', '\"10,422,352\"', '2.55', '100', '0', '93.49', '36.14']\n",
        "['6', 'DR33', '', 'TAGCTT', 'N', 'Daina_Ringus', '\"1,352\"', '100', '\"13,383,978\"', '3.28', '100', '0', '93.36', '36.09']\n",
        "['6', 'DR34', '', 'GGCTAC', 'N', 'Daina_Ringus', '\"2,192\"', '100', '\"21,698,534\"', '5.32', '100', '0', '93.26', '36.06']\n",
        "['6', 'DR35', '', 'GTGGCC', 'N', 'Daina_Ringus', '\"3,750\"', '100', '\"37,126,584\"', '9.1', '100', '0', '92.43', '35.62']\n",
        "['6', 'DR36', '', 'GTTTCG', 'N', 'Daina_Ringus', '\"2,937\"', '100', '\"29,078,044\"', '7.12', '100', '0', '93.35', '36.07']\n",
        "['6', 'DR37', '', 'CGTACG', 'N', 'Daina_Ringus', '\"3,996\"', '100', '\"39,559,992\"', '9.69', '100', '0', '93.22', '35.96']\n",
        "['6', 'DR38', '', 'GAGTGG', 'N', 'Daina_Ringus', '\"5,746\"', '100', '\"56,889,932\"', '13.94', '100', '0', '93.63', '36.15']\n",
        "['6', 'DR39', '', 'ACTGAT', 'N', 'Daina_Ringus', '\"2,460\"', '100', '\"24,359,930\"', '5.97', '100', '0', '93.42', '36.1']\n",
        "['6', 'DR40', '', 'ATTCCT', 'N', 'Daina_Ringus', '\"3,943\"', '100', '\"39,037,604\"', '9.56', '100', '0', '93.96', '36.33']\n",
        "['7', 'DR41', '', 'CGATGT', 'N', 'Daina_Ringus', '\"2,434\"', '100', '\"24,097,574\"', '9.21', '100', '0', '96.2', '36.82']\n",
        "['7', 'DR42', '', 'TGACCA', 'N', 'Daina_Ringus', '\"1,840\"', '100', '\"18,213,230\"', '6.96', '100', '0', '96.29', '36.77']\n",
        "['7', 'DR43', '', 'ACAGTG', 'N', 'Daina_Ringus', '\"1,800\"', '100', '\"17,821,386\"', '6.81', '100', '0', '96.23', '36.81']\n",
        "['7', 'DR44', '', 'GCCAAT', 'N', 'Daina_Ringus', '\"1,838\"', '100', '\"18,195,814\"', '6.95', '100', '0', '96.19', '36.82']\n",
        "['7', 'DR45', '', 'CAGATC', 'N', 'Daina_Ringus', '\"1,792\"', '100', '\"17,744,086\"', '6.78', '100', '0', '96.17', '36.81']\n",
        "['7', 'DR46', '', 'CTTGTA', 'N', 'Daina_Ringus', '\"3,449\"', '100', '\"34,143,860\"', '13.05', '100', '0', '96.07', '36.74']\n",
        "['7', 'DR47', '', 'AGTCAA', 'N', 'Daina_Ringus', '\"1,816\"', '100', '\"17,980,510\"', '6.87', '100', '0', '96.1', '36.78']\n",
        "['7', 'DR48', '', 'AGTTCC', 'N', 'Daina_Ringus', '451', '100', '\"4,463,666\"', '1.71', '100', '0', '96.5', '36.95']\n",
        "['7', 'DR49', '', 'ATGTCA', 'N', 'Daina_Ringus', '\"1,362\"', '100', '\"13,485,714\"', '5.15', '100', '0', '96.3', '36.86']\n",
        "['7', 'DR50', '', 'CCGTCC', 'N', 'Daina_Ringus', '701', '100', '\"6,941,650\"', '2.65', '100', '0', '96.01', '36.77']\n",
        "['7', 'DR51', '', 'GTCCGC', 'N', 'Daina_Ringus', '\"1,506\"', '100', '\"14,913,320\"', '5.7', '100', '0', '96.09', '36.84']\n",
        "['7', 'DR52', '', 'GTGAAA', 'N', 'Daina_Ringus', '497', '100', '\"4,922,712\"', '1.88', '100', '0', '95.25', '36.57']\n",
        "['7', 'DR53', '', 'ATCACG', 'N', 'Daina_Ringus', '\"1,113\"', '100', '\"11,015,082\"', '4.21', '100', '0', '95.89', '36.65']\n",
        "['7', 'DR54', '', 'TTAGGC', 'N', 'Daina_Ringus', '\"3,730\"', '100', '\"36,931,592\"', '14.11', '100', '0', '95.73', '36.77']\n",
        "['8', 'DR55', '', 'ACTTGA', 'N', 'Daina_Ringus', '\"1,041\"', '100', '\"10,308,640\"', '4.3', '100', '0', '96.43', '37.06']\n",
        "['8', 'DR56', '', 'GATCAG', 'N', 'Daina_Ringus', '877', '100', '\"8,685,490\"', '3.62', '100', '0', '95.7', '37.03']\n",
        "['8', 'DR57', '', 'TAGCTT', 'N', 'Daina_Ringus', '\"1,480\"', '100', '\"14,658,004\"', '6.11', '100', '0', '95.37', '36.51']\n",
        "['8', 'DR58', '', 'GGCTAC', 'N', 'Daina_Ringus', '839', '100', '\"8,306,328\"', '3.46', '100', '0', '95.27', '36.58']\n",
        "['8', 'DR59', '', 'GTGGCC', 'N', 'Daina_Ringus', '\"1,384\"', '100', '\"13,704,238\"', '5.71', '100', '0', '95.97', '36.84']\n",
        "['8', 'DR60', '', 'GTTTCG', 'N', 'Daina_Ringus', '783', '100', '\"7,754,342\"', '3.23', '100', '0', '94.73', '36.23']\n",
        "['8', 'DR61', '', 'CGTACG', 'N', 'Daina_Ringus', '\"1,835\"', '100', '\"18,170,660\"', '7.58', '100', '0', '95.44', '36.47']\n",
        "['8', 'DR62', '', 'GAGTGG', 'N', 'Daina_Ringus', '\"1,480\"', '100', '\"14,651,944\"', '6.11', '100', '0', '95.7', '36.61']\n",
        "['8', 'DR63', '', 'ACTGAT', 'N', 'Daina_Ringus', '\"2,027\"', '100', '\"20,070,194\"', '8.37', '100', '0', '95.75', '36.62']\n",
        "['8', 'DR64', '', 'ATTCCT', 'N', 'Daina_Ringus', '\"1,250\"', '100', '\"12,376,040\"', '5.16', '100', '0', '96.22', '36.97']\n",
        "['8', 'DR65', '', 'CGATGT', 'N', 'Daina_Ringus', '\"1,729\"', '100', '\"17,117,656\"', '7.14', '100', '0', '96.16', '36.93']\n",
        "['8', 'DR66', '', 'TGACCA', 'N', 'Daina_Ringus', '766', '100', '\"7,588,556\"', '3.16', '100', '0', '96.23', '36.94']\n",
        "['8', 'DR67', '', 'GCCAAT', 'N', 'Daina_Ringus', '\"1,719\"', '100', '\"17,021,354\"', '7.1', '100', '0', '95.35', '36.52']\n",
        "['8', 'DR68', '', 'CAGATC', 'N', 'Daina_Ringus', '\"3,898\"', '100', '\"38,590,258\"', '16.09', '100', '0', '95.72', '36.63']\n"
       ]
      }
     ],
     "prompt_number": 17
    },
    {
     "cell_type": "code",
     "collapsed": false,
     "input": [
      "for n, line in enumerate(open(\"sequence_summary.txt\")):\n",
      "    if n > 0:\n",
      "        dat = line.rstrip().split('\\t') \n",
      "        id1 = dat[1]\n",
      "        print id1"
     ],
     "language": "python",
     "metadata": {},
     "outputs": [
      {
       "output_type": "stream",
       "stream": "stdout",
       "text": [
        "DR1\n",
        "DR2\n",
        "DR3\n",
        "DR4\n",
        "DR5\n",
        "DR6\n",
        "DR7\n",
        "DR8\n",
        "DR10\n",
        "DR11\n",
        "DR12\n",
        "DR9\n",
        "DR13\n",
        "DR14\n",
        "DR15\n",
        "DR16\n",
        "DR17\n",
        "DR18\n",
        "DR19\n",
        "DR20\n",
        "DR21\n",
        "DR22\n",
        "DR23\n",
        "DR24\n",
        "DR25\n",
        "DR27\n",
        "DR28\n",
        "DR29\n",
        "DR30\n",
        "DR31\n",
        "DR32\n",
        "DR33\n",
        "DR34\n",
        "DR35\n",
        "DR36\n",
        "DR37\n",
        "DR38\n",
        "DR39\n",
        "DR40\n",
        "DR41\n",
        "DR42\n",
        "DR43\n",
        "DR44\n",
        "DR45\n",
        "DR46\n",
        "DR47\n",
        "DR48\n",
        "DR49\n",
        "DR50\n",
        "DR51\n",
        "DR52\n",
        "DR53\n",
        "DR54\n",
        "DR55\n",
        "DR56\n",
        "DR57\n",
        "DR58\n",
        "DR59\n",
        "DR60\n",
        "DR61\n",
        "DR62\n",
        "DR63\n",
        "DR64\n",
        "DR65\n",
        "DR66\n",
        "DR67\n",
        "DR68\n"
       ]
      }
     ],
     "prompt_number": 1
    },
    {
     "cell_type": "code",
     "collapsed": false,
     "input": [
      "for n, line in enumerate(open(\"sequence_summary.txt\")):\n",
      "    if n > 0:\n",
      "        dat = line.rstrip().split('\\t') \n",
      "        id1 = dat[1]\n",
      "        print id1"
     ],
     "language": "python",
     "metadata": {},
     "outputs": []
    },
    {
     "cell_type": "markdown",
     "metadata": {},
     "source": [
      "You'll remember from above that our dictionary currently contains keys that contain with \"Sample\" so they don't quite match our *id1* from above.  Let's fix that."
     ]
    },
    {
     "cell_type": "code",
     "collapsed": false,
     "input": [
      "d = {}\n",
      "\n",
      "for line in open(\"SampleIDsVirome.txt\"):\n",
      "    dat = line.rstrip().split('\\t')\n",
      "    old_id = dat[0].split('_')[1]\n",
      "    new_id = dat[1]\n",
      "    d[old_id] = new_id\n",
      "\n",
      "print d"
     ],
     "language": "python",
     "metadata": {},
     "outputs": [
      {
       "output_type": "stream",
       "stream": "stdout",
       "text": [
        "{'DR28': '50C_2-13_VLP', 'DR29': '50A_2-13_IND', 'DR24': '50C_2-12_IND', 'DR25': '50A_2-13_VLP', 'DR26': '50A_2-12_MDA', 'DR27': '50B_2-13_VLP', 'DR20': '50B_2-12_VLP', 'DR21': '50C_2-12_VLP', 'DR22': '50A_2-12_IND', 'DR23': '50B_2-12_IND', 'DR54': '77C_2-19_IND', 'DR59': '77B_3-12_IND', 'DR58': '77A_3-12_IND', 'DR67': '77A_CECAL', 'DR15': '77C_3-12_total', 'DR14': '77B_3-12_total', 'DR17': '77B_4-2_total', 'DR16': '77A_4-2_total', 'DR11': '77B_2-18_total', 'DR10': '77A_2-18_total', 'DR13': '77A_3-12_total', 'DR12': '77C_2-18_total', 'DR51': '77C_2-19_VLP', 'DR50': '77B_2-19_VLP', 'DR53': '77B_2-29_IND', 'DR52': '77A_2-19_IND', 'DR19': '50A_2-12_VLP', 'DR18': '77C_4-2_total', 'DR57': '77C_3-12_VLP', 'DR56': '77B_3-12_VLP', 'DR66': '77C_4-2_IND', 'DR39': '50B_3-27_VLP', 'DR38': '50A_3-27_VLP', 'DR37': '50C_3-6_IND', 'DR36': '50B_3-6_IND', 'DR35': '50A_3-6_IND', 'DR34': '50C_3-6_VLP', 'DR33': '50B_3-6_VLP', 'DR32': '50A_3-6_VLP', 'DR31': '50C_2-13_IND', 'DR30': '50B_2-13_IND', 'DR68': '77B_CECAL', 'DR9': '50C_3-27_total', 'DR8': '50B_3-27_total', 'DR1': '50A_2-12_total', 'DR55': '77A_3-12_VLP', 'DR3': '50C_2-12_total', 'DR2': '50B_2-12_total', 'DR5': '50B_3-6_total', 'DR4': '50A_3-6_total', 'DR7': '50A_3-27_total', 'DR6': '50C_3-6_total', 'DR60': '77C_3-12_IND', 'DR61': '77A_4-2_VLP', 'DR62': '77B_4-2_VLP', 'DR63': '77C_4-2_VLP', 'DR64': '77A_4-2_IND', 'DR65': '77B_4-2_IND', 'DR48': '77C_2-18_IND', 'DR49': '77A_2-19_VLP', 'DR46': '77A_2-18_IND', 'DR47': '77B_2-18_IND', 'DR44': '77B_2-18_VLP', 'DR45': '77C_2-18_VLP', 'DR42': '50B_3-27_IND', 'DR43': '77A_2-18_VLP', 'DR40': '50C_3-27_VLP', 'DR41': '50A_3-27_IND'}\n"
       ]
      }
     ],
     "prompt_number": 3
    },
    {
     "cell_type": "markdown",
     "metadata": {},
     "source": [
      "Putting it all together..."
     ]
    },
    {
     "cell_type": "code",
     "collapsed": false,
     "input": [
      "d = {}\n",
      "\n",
      "for line in open(\"SampleIDsVirome.txt\"):\n",
      "    dat = line.rstrip().split('\\t')\n",
      "    old_id = dat[0].split('_')[1]\n",
      "    new_id = dat[1]\n",
      "    d[old_id] = new_id\n",
      "    \n",
      "for n, line in enumerate(open(\"sequence_summary.txt\")):\n",
      "    if n > 0:\n",
      "        dat = line.rstrip().split('\\t') \n",
      "        id1 = dat[1]\n",
      "        id2 = d[id1]\n",
      "        dat[1] = id2\n",
      "        print '\\t'.join(dat)\n",
      "    else:\n",
      "        print line.rstrip()"
     ],
     "language": "python",
     "metadata": {},
     "outputs": [
      {
       "output_type": "stream",
       "stream": "stdout",
       "text": [
        "Lane\tSample ID\tSample Ref\tIndex\tControl\tProject\tYield (Mbases)\t% PF\t# Reads\t% of raw clusters per lane\t% Perfect Index Reads\t% One Mismatch Reads (Index)\t% of >= Q30 Bases (PF)\tMean Quality Score (PF)\n",
        "1\t50A_2-12_total\t\tACAGTG\tN\tDaina_Ringus\t\"4,142\"\t100\t\"41,009,488\"\t14.48\t100\t0\t95.04\t36.5\n",
        "1\t50B_2-12_total\t\tGTGAAA\tN\tDaina_Ringus\t\"6,827\"\t100\t\"67,593,904\"\t23.87\t100\t0\t95.24\t36.57\n",
        "1\t50C_2-12_total\t\tGCCAAT\tN\tDaina_Ringus\t\"11,896\"\t100\t\"117,777,564\"\t41.59\t100\t0\t95.49\t36.77\n",
        "1\t50A_3-6_total\t\tCTTGTA\tN\tDaina_Ringus\t\"4,381\"\t100\t\"43,377,914\"\t15.32\t100\t0\t95.37\t36.69\n",
        "2\t50B_3-6_total\t\tCAGATC\tN\tDaina_Ringus\t\"5,448\"\t100\t\"53,939,284\"\t41.55\t100\t0\t96.93\t37.19\n",
        "2\t50C_3-6_total\t\tGGCTAC\tN\tDaina_Ringus\t\"2,888\"\t100\t\"28,591,364\"\t22.02\t100\t0\t96.81\t37.06\n",
        "2\t50A_3-27_total\t\tATCACG\tN\tDaina_Ringus\t\"2,177\"\t100\t\"21,553,336\"\t16.6\t100\t0\t96.72\t37.06\n",
        "2\t50B_3-27_total\t\tGAGTGG\tN\tDaina_Ringus\t\"1,746\"\t100\t\"17,286,478\"\t13.32\t100\t0\t96.95\t37.2\n",
        "3\t77A_2-18_total\t\tACTTGA\tN\tDaina_Ringus\t\"10,719\"\t100\t\"106,124,800\"\t31.24\t100\t0\t93.96\t36.21\n",
        "3\t77B_2-18_total\t\tCGATGT\tN\tDaina_Ringus\t\"7,157\"\t100\t\"70,865,306\"\t20.86\t100\t0\t94.62\t36.54\n",
        "3\t77C_2-18_total\t\tGATCAG\tN\tDaina_Ringus\t\"3,797\"\t100\t\"37,591,042\"\t11.06\t100\t0\t92.92\t35.88\n",
        "3\t50C_3-27_total\t\tTGACCA\tN\tDaina_Ringus\t\"10,771\"\t100\t\"106,641,384\"\t31.39\t100\t0\t93.95\t36.26\n",
        "4\t77A_3-12_total\t\tGCCAAT\tN\tDaina_Ringus\t\"3,581\"\t100\t\"35,452,446\"\t9.14\t100\t0\t93.55\t36.16\n",
        "4\t77B_3-12_total\t\tACTTGA\tN\tDaina_Ringus\t\"9,202\"\t100\t\"91,104,950\"\t23.5\t100\t0\t93.38\t36.14\n",
        "4\t77C_3-12_total\t\tTTAGGC\tN\tDaina_Ringus\t\"22,221\"\t100\t\"220,010,616\"\t56.74\t100\t0\t93.7\t36.38\n",
        "4\t77A_4-2_total\t\tCGTACG\tN\tDaina_Ringus\t\"1,887\"\t100\t\"18,685,668\"\t4.82\t100\t0\t93.26\t36.06\n",
        "5\t77B_4-2_total\t\tCGATGT\tN\tDaina_Ringus\t953\t100\t\"9,435,022\"\t3.85\t100\t0\t95.95\t36.84\n",
        "5\t77C_4-2_total\t\tTGACCA\tN\tDaina_Ringus\t\"3,804\"\t100\t\"37,667,840\"\t15.35\t100\t0\t95.92\t36.79\n",
        "5\t50A_2-12_VLP\t\tACAGTG\tN\tDaina_Ringus\t\"2,767\"\t100\t\"27,400,296\"\t11.17\t100\t0\t96.01\t36.68\n",
        "5\t50B_2-12_VLP\t\tGCCAAT\tN\tDaina_Ringus\t\"1,680\"\t100\t\"16,635,212\"\t6.78\t100\t0\t95.69\t36.6\n",
        "5\t50C_2-12_VLP\t\tCAGATC\tN\tDaina_Ringus\t\"2,493\"\t100\t\"24,686,038\"\t10.06\t100\t0\t96.25\t36.87\n",
        "5\t50A_2-12_IND\t\tCTTGTA\tN\tDaina_Ringus\t\"1,795\"\t100\t\"17,768,828\"\t7.24\t100\t0\t95.81\t36.57\n",
        "5\t50B_2-12_IND\t\tAGTCAA\tN\tDaina_Ringus\t\"2,311\"\t100\t\"22,881,330\"\t9.33\t100\t0\t95.85\t36.62\n",
        "5\t50C_2-12_IND\t\tAGTTCC\tN\tDaina_Ringus\t\"2,511\"\t100\t\"24,863,198\"\t10.13\t100\t0\t95.91\t36.63\n",
        "5\t50A_2-13_VLP\t\tATGTCA\tN\tDaina_Ringus\t\"3,413\"\t100\t\"33,792,452\"\t13.77\t100\t0\t96.32\t37.01\n",
        "6\t50B_2-13_VLP\t\tGTCCGC\tN\tDaina_Ringus\t\"3,690\"\t100\t\"36,537,004\"\t8.95\t100\t0\t92.15\t35.62\n",
        "6\t50C_2-13_VLP\t\tGTGAAA\tN\tDaina_Ringus\t\"2,772\"\t100\t\"27,447,572\"\t6.72\t100\t0\t93.02\t35.92\n",
        "6\t50A_2-13_IND\t\tATCACG\tN\tDaina_Ringus\t\"1,104\"\t100\t\"10,930,658\"\t2.68\t100\t0\t94.56\t36.6\n",
        "6\t50B_2-13_IND\t\tTTAGGC\tN\tDaina_Ringus\t\"1,552\"\t100\t\"15,361,500\"\t3.76\t100\t0\t93.75\t36.28\n",
        "6\t50C_2-13_IND\t\tACTTGA\tN\tDaina_Ringus\t\"3,646\"\t100\t\"36,099,236\"\t8.84\t100\t0\t92.98\t35.85\n",
        "6\t50A_3-6_VLP\t\tGATCAG\tN\tDaina_Ringus\t\"1,053\"\t100\t\"10,422,352\"\t2.55\t100\t0\t93.49\t36.14\n",
        "6\t50B_3-6_VLP\t\tTAGCTT\tN\tDaina_Ringus\t\"1,352\"\t100\t\"13,383,978\"\t3.28\t100\t0\t93.36\t36.09\n",
        "6\t50C_3-6_VLP\t\tGGCTAC\tN\tDaina_Ringus\t\"2,192\"\t100\t\"21,698,534\"\t5.32\t100\t0\t93.26\t36.06\n",
        "6\t50A_3-6_IND\t\tGTGGCC\tN\tDaina_Ringus\t\"3,750\"\t100\t\"37,126,584\"\t9.1\t100\t0\t92.43\t35.62\n",
        "6\t50B_3-6_IND\t\tGTTTCG\tN\tDaina_Ringus\t\"2,937\"\t100\t\"29,078,044\"\t7.12\t100\t0\t93.35\t36.07\n",
        "6\t50C_3-6_IND\t\tCGTACG\tN\tDaina_Ringus\t\"3,996\"\t100\t\"39,559,992\"\t9.69\t100\t0\t93.22\t35.96\n",
        "6\t50A_3-27_VLP\t\tGAGTGG\tN\tDaina_Ringus\t\"5,746\"\t100\t\"56,889,932\"\t13.94\t100\t0\t93.63\t36.15\n",
        "6\t50B_3-27_VLP\t\tACTGAT\tN\tDaina_Ringus\t\"2,460\"\t100\t\"24,359,930\"\t5.97\t100\t0\t93.42\t36.1\n",
        "6\t50C_3-27_VLP\t\tATTCCT\tN\tDaina_Ringus\t\"3,943\"\t100\t\"39,037,604\"\t9.56\t100\t0\t93.96\t36.33\n",
        "7\t50A_3-27_IND\t\tCGATGT\tN\tDaina_Ringus\t\"2,434\"\t100\t\"24,097,574\"\t9.21\t100\t0\t96.2\t36.82\n",
        "7\t50B_3-27_IND\t\tTGACCA\tN\tDaina_Ringus\t\"1,840\"\t100\t\"18,213,230\"\t6.96\t100\t0\t96.29\t36.77\n",
        "7\t77A_2-18_VLP\t\tACAGTG\tN\tDaina_Ringus\t\"1,800\"\t100\t\"17,821,386\"\t6.81\t100\t0\t96.23\t36.81\n",
        "7\t77B_2-18_VLP\t\tGCCAAT\tN\tDaina_Ringus\t\"1,838\"\t100\t\"18,195,814\"\t6.95\t100\t0\t96.19\t36.82\n",
        "7\t77C_2-18_VLP\t\tCAGATC\tN\tDaina_Ringus\t\"1,792\"\t100\t\"17,744,086\"\t6.78\t100\t0\t96.17\t36.81\n",
        "7\t77A_2-18_IND\t\tCTTGTA\tN\tDaina_Ringus\t\"3,449\"\t100\t\"34,143,860\"\t13.05\t100\t0\t96.07\t36.74\n",
        "7\t77B_2-18_IND\t\tAGTCAA\tN\tDaina_Ringus\t\"1,816\"\t100\t\"17,980,510\"\t6.87\t100\t0\t96.1\t36.78\n",
        "7\t77C_2-18_IND\t\tAGTTCC\tN\tDaina_Ringus\t451\t100\t\"4,463,666\"\t1.71\t100\t0\t96.5\t36.95\n",
        "7\t77A_2-19_VLP\t\tATGTCA\tN\tDaina_Ringus\t\"1,362\"\t100\t\"13,485,714\"\t5.15\t100\t0\t96.3\t36.86\n",
        "7\t77B_2-19_VLP\t\tCCGTCC\tN\tDaina_Ringus\t701\t100\t\"6,941,650\"\t2.65\t100\t0\t96.01\t36.77\n",
        "7\t77C_2-19_VLP\t\tGTCCGC\tN\tDaina_Ringus\t\"1,506\"\t100\t\"14,913,320\"\t5.7\t100\t0\t96.09\t36.84\n",
        "7\t77A_2-19_IND\t\tGTGAAA\tN\tDaina_Ringus\t497\t100\t\"4,922,712\"\t1.88\t100\t0\t95.25\t36.57\n",
        "7\t77B_2-29_IND\t\tATCACG\tN\tDaina_Ringus\t\"1,113\"\t100\t\"11,015,082\"\t4.21\t100\t0\t95.89\t36.65\n",
        "7\t77C_2-19_IND\t\tTTAGGC\tN\tDaina_Ringus\t\"3,730\"\t100\t\"36,931,592\"\t14.11\t100\t0\t95.73\t36.77\n",
        "8\t77A_3-12_VLP\t\tACTTGA\tN\tDaina_Ringus\t\"1,041\"\t100\t\"10,308,640\"\t4.3\t100\t0\t96.43\t37.06\n",
        "8\t77B_3-12_VLP\t\tGATCAG\tN\tDaina_Ringus\t877\t100\t\"8,685,490\"\t3.62\t100\t0\t95.7\t37.03\n",
        "8\t77C_3-12_VLP\t\tTAGCTT\tN\tDaina_Ringus\t\"1,480\"\t100\t\"14,658,004\"\t6.11\t100\t0\t95.37\t36.51\n",
        "8\t77A_3-12_IND\t\tGGCTAC\tN\tDaina_Ringus\t839\t100\t\"8,306,328\"\t3.46\t100\t0\t95.27\t36.58\n",
        "8\t77B_3-12_IND\t\tGTGGCC\tN\tDaina_Ringus\t\"1,384\"\t100\t\"13,704,238\"\t5.71\t100\t0\t95.97\t36.84\n",
        "8\t77C_3-12_IND\t\tGTTTCG\tN\tDaina_Ringus\t783\t100\t\"7,754,342\"\t3.23\t100\t0\t94.73\t36.23\n",
        "8\t77A_4-2_VLP\t\tCGTACG\tN\tDaina_Ringus\t\"1,835\"\t100\t\"18,170,660\"\t7.58\t100\t0\t95.44\t36.47\n",
        "8\t77B_4-2_VLP\t\tGAGTGG\tN\tDaina_Ringus\t\"1,480\"\t100\t\"14,651,944\"\t6.11\t100\t0\t95.7\t36.61\n",
        "8\t77C_4-2_VLP\t\tACTGAT\tN\tDaina_Ringus\t\"2,027\"\t100\t\"20,070,194\"\t8.37\t100\t0\t95.75\t36.62\n",
        "8\t77A_4-2_IND\t\tATTCCT\tN\tDaina_Ringus\t\"1,250\"\t100\t\"12,376,040\"\t5.16\t100\t0\t96.22\t36.97\n",
        "8\t77B_4-2_IND\t\tCGATGT\tN\tDaina_Ringus\t\"1,729\"\t100\t\"17,117,656\"\t7.14\t100\t0\t96.16\t36.93\n",
        "8\t77C_4-2_IND\t\tTGACCA\tN\tDaina_Ringus\t766\t100\t\"7,588,556\"\t3.16\t100\t0\t96.23\t36.94\n",
        "8\t77A_CECAL\t\tGCCAAT\tN\tDaina_Ringus\t\"1,719\"\t100\t\"17,021,354\"\t7.1\t100\t0\t95.35\t36.52\n",
        "8\t77B_CECAL\t\tCAGATC\tN\tDaina_Ringus\t\"3,898\"\t100\t\"38,590,258\"\t16.09\t100\t0\t95.72\t36.63\n"
       ]
      }
     ],
     "prompt_number": 7
    },
    {
     "cell_type": "markdown",
     "metadata": {},
     "source": [
      "Let's work with renaming the files on our system now.  To do that, let me introduce you the *os* python module."
     ]
    },
    {
     "cell_type": "code",
     "collapsed": false,
     "input": [
      "?os.listdir"
     ],
     "language": "python",
     "metadata": {},
     "outputs": [],
     "prompt_number": 4
    },
    {
     "cell_type": "code",
     "collapsed": false,
     "input": [
      "import os\n",
      "\n",
      "for x in os.listdir(\"./sequencing-output\"):\n",
      "    print x\n",
      "#os.rename(\"test.fasta\",\"test2.fasta\")"
     ],
     "language": "python",
     "metadata": {},
     "outputs": [
      {
       "output_type": "stream",
       "stream": "stdout",
       "text": [
        "DR1.fasta\n",
        "DR10.fasta\n",
        "DR11.fasta\n",
        "DR12.fasta\n",
        "DR13.fasta\n",
        "DR14.fasta\n",
        "DR15.fasta\n",
        "DR16.fasta\n",
        "DR17.fasta\n",
        "DR18.fasta\n",
        "DR19.fasta\n",
        "DR2.fasta\n",
        "DR20.fasta\n",
        "DR21.fasta\n",
        "DR22.fasta\n",
        "DR23.fasta\n",
        "DR24.fasta\n",
        "DR25.fasta\n",
        "DR27.fasta\n",
        "DR28.fasta\n",
        "DR29.fasta\n",
        "DR3.fasta\n",
        "DR30.fasta\n",
        "DR31.fasta\n",
        "DR32.fasta\n",
        "DR33.fasta\n",
        "DR34.fasta\n",
        "DR35.fasta\n",
        "DR36.fasta\n",
        "DR37.fasta\n",
        "DR38.fasta\n",
        "DR39.fasta\n",
        "DR4.fasta\n",
        "DR40.fasta\n",
        "DR41.fasta\n",
        "DR42.fasta\n",
        "DR43.fasta\n",
        "DR44.fasta\n",
        "DR45.fasta\n",
        "DR46.fasta\n",
        "DR47.fasta\n",
        "DR48.fasta\n",
        "DR49.fasta\n",
        "DR5.fasta\n",
        "DR50.fasta\n",
        "DR51.fasta\n",
        "DR52.fasta\n",
        "DR53.fasta\n",
        "DR54.fasta\n",
        "DR55.fasta\n",
        "DR56.fasta\n",
        "DR57.fasta\n",
        "DR58.fasta\n",
        "DR59.fasta\n",
        "DR6.fasta\n",
        "DR60.fasta\n",
        "DR61.fasta\n",
        "DR62.fasta\n",
        "DR63.fasta\n",
        "DR64.fasta\n",
        "DR65.fasta\n",
        "DR66.fasta\n",
        "DR67.fasta\n",
        "DR68.fasta\n",
        "DR7.fasta\n",
        "DR8.fasta\n",
        "DR9.fasta\n"
       ]
      }
     ],
     "prompt_number": 6
    },
    {
     "cell_type": "code",
     "collapsed": true,
     "input": [
      "import os\n",
      "\n",
      "d = {}\n",
      "\n",
      "for line in open(\"SampleIDsVirome.txt\"):\n",
      "    dat = line.rstrip().split('\\t')\n",
      "    old_id = dat[0].split('_')[1]\n",
      "    new_id = dat[1]\n",
      "    d[old_id] = new_id\n",
      "\n",
      "for x in os.listdir(\"./sequencing-output/\"):\n",
      "    old_file = x\n",
      "    new_file = d[x.split('.fasta')[0]] + \".fasta\"\n",
      "    os.rename(\"./sequencing-output/\" + old_file, \"./sequencing-output/\" + new_file)"
     ],
     "language": "python",
     "metadata": {},
     "outputs": [],
     "prompt_number": 5
    },
    {
     "cell_type": "code",
     "collapsed": false,
     "input": [
      "!ls ./sequencing-output/"
     ],
     "language": "python",
     "metadata": {},
     "outputs": [
      {
       "output_type": "stream",
       "stream": "stdout",
       "text": [
        "50A_2-12_IND.fasta   50C_2-12_VLP.fasta   77B_2-18_total.fasta\r\n",
        "50A_2-12_VLP.fasta   50C_2-12_total.fasta 77B_2-19_VLP.fasta\r\n",
        "50A_2-12_total.fasta 50C_2-13_IND.fasta   77B_2-29_IND.fasta\r\n",
        "50A_2-13_IND.fasta   50C_2-13_VLP.fasta   77B_3-12_IND.fasta\r\n",
        "50A_2-13_VLP.fasta   50C_3-27_VLP.fasta   77B_3-12_VLP.fasta\r\n",
        "50A_3-27_IND.fasta   50C_3-27_total.fasta 77B_3-12_total.fasta\r\n",
        "50A_3-27_VLP.fasta   50C_3-6_IND.fasta    77B_4-2_IND.fasta\r\n",
        "50A_3-27_total.fasta 50C_3-6_VLP.fasta    77B_4-2_VLP.fasta\r\n",
        "50A_3-6_IND.fasta    50C_3-6_total.fasta  77B_4-2_total.fasta\r\n",
        "50A_3-6_VLP.fasta    77A_2-18_IND.fasta   77B_CECAL.fasta\r\n",
        "50A_3-6_total.fasta  77A_2-18_VLP.fasta   77C_2-18_IND.fasta\r\n",
        "50B_2-12_IND.fasta   77A_2-18_total.fasta 77C_2-18_VLP.fasta\r\n",
        "50B_2-12_VLP.fasta   77A_2-19_IND.fasta   77C_2-18_total.fasta\r\n",
        "50B_2-12_total.fasta 77A_2-19_VLP.fasta   77C_2-19_IND.fasta\r\n",
        "50B_2-13_IND.fasta   77A_3-12_IND.fasta   77C_2-19_VLP.fasta\r\n",
        "50B_2-13_VLP.fasta   77A_3-12_VLP.fasta   77C_3-12_IND.fasta\r\n",
        "50B_3-27_IND.fasta   77A_3-12_total.fasta 77C_3-12_VLP.fasta\r\n",
        "50B_3-27_VLP.fasta   77A_4-2_IND.fasta    77C_3-12_total.fasta\r\n",
        "50B_3-27_total.fasta 77A_4-2_VLP.fasta    77C_4-2_IND.fasta\r\n",
        "50B_3-6_IND.fasta    77A_4-2_total.fasta  77C_4-2_VLP.fasta\r\n",
        "50B_3-6_VLP.fasta    77A_CECAL.fasta      77C_4-2_total.fasta\r\n",
        "50B_3-6_total.fasta  77B_2-18_IND.fasta\r\n",
        "50C_2-12_IND.fasta   77B_2-18_VLP.fasta\r\n"
       ]
      }
     ],
     "prompt_number": 7
    },
    {
     "cell_type": "code",
     "collapsed": false,
     "input": [],
     "language": "python",
     "metadata": {},
     "outputs": []
    }
   ],
   "metadata": {}
  }
 ]
}